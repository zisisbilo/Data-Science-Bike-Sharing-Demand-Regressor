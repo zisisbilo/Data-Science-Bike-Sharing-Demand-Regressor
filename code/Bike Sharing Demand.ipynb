{
 "cells": [
  {
   "cell_type": "markdown",
   "metadata": {},
   "source": [
    "# Data Challenge - Bike Sharing Demand Prediction"
   ]
  },
  {
   "cell_type": "markdown",
   "metadata": {},
   "source": [
    "## Dataset Information\n",
    "Our training dataset contains information from 12,165 hours over 731 days with 14 features (information categories)  and 1 target for each hour.\n",
    "The file named *train.csv* contains the training set of the problem, while the file *test.csv* contains the test set of the problem. Each line of these two files corresponds to a bike sharing record characterized by the following variables:\n",
    "Variable | Description\n",
    "--- | --- | ---\n",
    "season | season (1:winter, 2:spring, 3:summer, 4:fall)\n",
    "yr | year (0: 2011, 1:2012)\n",
    "mnth | month (1 to 12)\n",
    "hr | hour (0 to 23)\n",
    "holiday | weather day is holiday or not\n",
    "weekday|day of the week\n",
    "workingday | if day is neither weekend nor holiday is 1, otherwise is 0.\n",
    "weathersit | 1: Clear, Few clouds, Partly cloudy, Partly cloudy\n",
    "| 2: Mist + Cloudy, Mist + Broken clouds, Mist + Few clouds, Mist\n",
    "| 3: Light Snow, Light Rain + Thunderstorm + Scattered clouds, Light Rain + Scattered clouds\n",
    "| 4: Heavy Rain + Ice Pallets + Thunderstorm + Mist, Snow + Fog\n",
    "temp | Normalized temperature in Celsius. The values are derived via (t-t_min)/(t_max-t_min), t_min=-8, t_max=+39 (only in hourly scale)\n",
    "atemp | Normalized feeling temperature in Celsius. The values are derived via (t-t_min)/(t_max-t_min), t_min=-16, t_max=+50 (only in hourly scale)\n",
    "hum | Normalized humidity. The values are divided to 100 (max)\n",
    "windspeed | Normalized wind speed. The values are divided to 67 (max)\n",
    "casual | count of casual users\n",
    "registered | count of registered users\n",
    "cnt | count of total rental bikes including both casual and registered\n",
    "The training set contains the variable `cnt` which is related to the number of bicycles rented in any given 1 hour time-period. The `cnt` (and also `casual` and `registered` which obviously contain direct information about the bike sharing count) variable is missing from the test set as it is the variable to be predicted."
   ]
  },
  {
   "cell_type": "code",
   "execution_count": 1,
   "metadata": {},
   "outputs": [],
   "source": [
    "import numpy as np\n",
    "import pandas as pd\n",
    "import matplotlib.pyplot as plt\n",
    "%matplotlib inline\n",
    "import seaborn as sn\n",
    "from scipy import stats\n",
    "from numpy import median\n",
    "from sklearn import metrics\n",
    "from sklearn import model_selection\n",
    "from sklearn.metrics import mean_squared_log_error, r2_score\n",
    "from sklearn.model_selection import train_test_split, GridSearchCV,RandomizedSearchCV\n",
    "from sklearn.linear_model import LinearRegression\n",
    "from sklearn.tree import DecisionTreeRegressor\n",
    "from sklearn.ensemble import ExtraTreesRegressor,VotingRegressor, RandomForestRegressor, GradientBoostingRegressor, AdaBoostRegressor\n",
    "import xgboost as xgb\n",
    "from sklearn.neighbors import KNeighborsRegressor"
   ]
  },
  {
   "cell_type": "code",
   "execution_count": 2,
   "metadata": {},
   "outputs": [
    {
     "name": "stdout",
     "output_type": "stream",
     "text": [
      "(12165, 15)\n"
     ]
    },
    {
     "data": {
      "text/html": [
       "<div>\n",
       "<style scoped>\n",
       "    .dataframe tbody tr th:only-of-type {\n",
       "        vertical-align: middle;\n",
       "    }\n",
       "\n",
       "    .dataframe tbody tr th {\n",
       "        vertical-align: top;\n",
       "    }\n",
       "\n",
       "    .dataframe thead th {\n",
       "        text-align: right;\n",
       "    }\n",
       "</style>\n",
       "<table border=\"1\" class=\"dataframe\">\n",
       "  <thead>\n",
       "    <tr style=\"text-align: right;\">\n",
       "      <th></th>\n",
       "      <th>season</th>\n",
       "      <th>yr</th>\n",
       "      <th>mnth</th>\n",
       "      <th>hr</th>\n",
       "      <th>holiday</th>\n",
       "      <th>weekday</th>\n",
       "      <th>workingday</th>\n",
       "      <th>weathersit</th>\n",
       "      <th>temp</th>\n",
       "      <th>atemp</th>\n",
       "      <th>hum</th>\n",
       "      <th>windspeed</th>\n",
       "      <th>casual</th>\n",
       "      <th>registered</th>\n",
       "      <th>cnt</th>\n",
       "    </tr>\n",
       "  </thead>\n",
       "  <tbody>\n",
       "    <tr>\n",
       "      <th>0</th>\n",
       "      <td>4</td>\n",
       "      <td>0</td>\n",
       "      <td>11</td>\n",
       "      <td>0</td>\n",
       "      <td>0</td>\n",
       "      <td>2</td>\n",
       "      <td>1</td>\n",
       "      <td>1</td>\n",
       "      <td>0.56</td>\n",
       "      <td>0.5303</td>\n",
       "      <td>0.64</td>\n",
       "      <td>0.3582</td>\n",
       "      <td>7</td>\n",
       "      <td>15</td>\n",
       "      <td>22</td>\n",
       "    </tr>\n",
       "    <tr>\n",
       "      <th>1</th>\n",
       "      <td>1</td>\n",
       "      <td>0</td>\n",
       "      <td>2</td>\n",
       "      <td>21</td>\n",
       "      <td>0</td>\n",
       "      <td>6</td>\n",
       "      <td>0</td>\n",
       "      <td>1</td>\n",
       "      <td>0.28</td>\n",
       "      <td>0.2727</td>\n",
       "      <td>0.65</td>\n",
       "      <td>0.2537</td>\n",
       "      <td>9</td>\n",
       "      <td>59</td>\n",
       "      <td>68</td>\n",
       "    </tr>\n",
       "    <tr>\n",
       "      <th>2</th>\n",
       "      <td>4</td>\n",
       "      <td>1</td>\n",
       "      <td>11</td>\n",
       "      <td>12</td>\n",
       "      <td>0</td>\n",
       "      <td>3</td>\n",
       "      <td>1</td>\n",
       "      <td>1</td>\n",
       "      <td>0.44</td>\n",
       "      <td>0.4394</td>\n",
       "      <td>0.41</td>\n",
       "      <td>0.1940</td>\n",
       "      <td>74</td>\n",
       "      <td>270</td>\n",
       "      <td>344</td>\n",
       "    </tr>\n",
       "    <tr>\n",
       "      <th>3</th>\n",
       "      <td>1</td>\n",
       "      <td>1</td>\n",
       "      <td>1</td>\n",
       "      <td>7</td>\n",
       "      <td>0</td>\n",
       "      <td>2</td>\n",
       "      <td>1</td>\n",
       "      <td>2</td>\n",
       "      <td>0.18</td>\n",
       "      <td>0.1970</td>\n",
       "      <td>0.93</td>\n",
       "      <td>0.1642</td>\n",
       "      <td>3</td>\n",
       "      <td>219</td>\n",
       "      <td>222</td>\n",
       "    </tr>\n",
       "    <tr>\n",
       "      <th>4</th>\n",
       "      <td>1</td>\n",
       "      <td>1</td>\n",
       "      <td>3</td>\n",
       "      <td>16</td>\n",
       "      <td>0</td>\n",
       "      <td>1</td>\n",
       "      <td>1</td>\n",
       "      <td>1</td>\n",
       "      <td>0.30</td>\n",
       "      <td>0.2727</td>\n",
       "      <td>0.45</td>\n",
       "      <td>0.2985</td>\n",
       "      <td>30</td>\n",
       "      <td>180</td>\n",
       "      <td>210</td>\n",
       "    </tr>\n",
       "  </tbody>\n",
       "</table>\n",
       "</div>"
      ],
      "text/plain": [
       "   season  yr  mnth  hr  holiday  weekday  workingday  weathersit  temp  \\\n",
       "0       4   0    11   0        0        2           1           1  0.56   \n",
       "1       1   0     2  21        0        6           0           1  0.28   \n",
       "2       4   1    11  12        0        3           1           1  0.44   \n",
       "3       1   1     1   7        0        2           1           2  0.18   \n",
       "4       1   1     3  16        0        1           1           1  0.30   \n",
       "\n",
       "    atemp   hum  windspeed  casual  registered  cnt  \n",
       "0  0.5303  0.64     0.3582       7          15   22  \n",
       "1  0.2727  0.65     0.2537       9          59   68  \n",
       "2  0.4394  0.41     0.1940      74         270  344  \n",
       "3  0.1970  0.93     0.1642       3         219  222  \n",
       "4  0.2727  0.45     0.2985      30         180  210  "
      ]
     },
     "execution_count": 2,
     "metadata": {},
     "output_type": "execute_result"
    }
   ],
   "source": [
    "# Reading training data from the local storage\n",
    "filename = 'train.csv' \n",
    "df_train = pd.read_csv(filename)\n",
    "print(df_train.shape)\n",
    "df_train.head(5)"
   ]
  },
  {
   "cell_type": "markdown",
   "metadata": {},
   "source": [
    "Rename Column Names"
   ]
  },
  {
   "cell_type": "code",
   "execution_count": 3,
   "metadata": {},
   "outputs": [
    {
     "data": {
      "text/html": [
       "<div>\n",
       "<style scoped>\n",
       "    .dataframe tbody tr th:only-of-type {\n",
       "        vertical-align: middle;\n",
       "    }\n",
       "\n",
       "    .dataframe tbody tr th {\n",
       "        vertical-align: top;\n",
       "    }\n",
       "\n",
       "    .dataframe thead th {\n",
       "        text-align: right;\n",
       "    }\n",
       "</style>\n",
       "<table border=\"1\" class=\"dataframe\">\n",
       "  <thead>\n",
       "    <tr style=\"text-align: right;\">\n",
       "      <th></th>\n",
       "      <th>season</th>\n",
       "      <th>year</th>\n",
       "      <th>month</th>\n",
       "      <th>hour</th>\n",
       "      <th>holiday</th>\n",
       "      <th>weekday</th>\n",
       "      <th>workingday</th>\n",
       "      <th>weather</th>\n",
       "      <th>temp</th>\n",
       "      <th>atemp</th>\n",
       "      <th>humidity</th>\n",
       "      <th>windspeed</th>\n",
       "      <th>casual</th>\n",
       "      <th>registered</th>\n",
       "      <th>count</th>\n",
       "    </tr>\n",
       "  </thead>\n",
       "  <tbody>\n",
       "    <tr>\n",
       "      <th>0</th>\n",
       "      <td>4</td>\n",
       "      <td>0</td>\n",
       "      <td>11</td>\n",
       "      <td>0</td>\n",
       "      <td>0</td>\n",
       "      <td>2</td>\n",
       "      <td>1</td>\n",
       "      <td>1</td>\n",
       "      <td>0.56</td>\n",
       "      <td>0.5303</td>\n",
       "      <td>0.64</td>\n",
       "      <td>0.3582</td>\n",
       "      <td>7</td>\n",
       "      <td>15</td>\n",
       "      <td>22</td>\n",
       "    </tr>\n",
       "    <tr>\n",
       "      <th>1</th>\n",
       "      <td>1</td>\n",
       "      <td>0</td>\n",
       "      <td>2</td>\n",
       "      <td>21</td>\n",
       "      <td>0</td>\n",
       "      <td>6</td>\n",
       "      <td>0</td>\n",
       "      <td>1</td>\n",
       "      <td>0.28</td>\n",
       "      <td>0.2727</td>\n",
       "      <td>0.65</td>\n",
       "      <td>0.2537</td>\n",
       "      <td>9</td>\n",
       "      <td>59</td>\n",
       "      <td>68</td>\n",
       "    </tr>\n",
       "    <tr>\n",
       "      <th>2</th>\n",
       "      <td>4</td>\n",
       "      <td>1</td>\n",
       "      <td>11</td>\n",
       "      <td>12</td>\n",
       "      <td>0</td>\n",
       "      <td>3</td>\n",
       "      <td>1</td>\n",
       "      <td>1</td>\n",
       "      <td>0.44</td>\n",
       "      <td>0.4394</td>\n",
       "      <td>0.41</td>\n",
       "      <td>0.1940</td>\n",
       "      <td>74</td>\n",
       "      <td>270</td>\n",
       "      <td>344</td>\n",
       "    </tr>\n",
       "    <tr>\n",
       "      <th>3</th>\n",
       "      <td>1</td>\n",
       "      <td>1</td>\n",
       "      <td>1</td>\n",
       "      <td>7</td>\n",
       "      <td>0</td>\n",
       "      <td>2</td>\n",
       "      <td>1</td>\n",
       "      <td>2</td>\n",
       "      <td>0.18</td>\n",
       "      <td>0.1970</td>\n",
       "      <td>0.93</td>\n",
       "      <td>0.1642</td>\n",
       "      <td>3</td>\n",
       "      <td>219</td>\n",
       "      <td>222</td>\n",
       "    </tr>\n",
       "    <tr>\n",
       "      <th>4</th>\n",
       "      <td>1</td>\n",
       "      <td>1</td>\n",
       "      <td>3</td>\n",
       "      <td>16</td>\n",
       "      <td>0</td>\n",
       "      <td>1</td>\n",
       "      <td>1</td>\n",
       "      <td>1</td>\n",
       "      <td>0.30</td>\n",
       "      <td>0.2727</td>\n",
       "      <td>0.45</td>\n",
       "      <td>0.2985</td>\n",
       "      <td>30</td>\n",
       "      <td>180</td>\n",
       "      <td>210</td>\n",
       "    </tr>\n",
       "  </tbody>\n",
       "</table>\n",
       "</div>"
      ],
      "text/plain": [
       "   season  year  month  hour  holiday  weekday  workingday  weather  temp  \\\n",
       "0       4     0     11     0        0        2           1        1  0.56   \n",
       "1       1     0      2    21        0        6           0        1  0.28   \n",
       "2       4     1     11    12        0        3           1        1  0.44   \n",
       "3       1     1      1     7        0        2           1        2  0.18   \n",
       "4       1     1      3    16        0        1           1        1  0.30   \n",
       "\n",
       "    atemp  humidity  windspeed  casual  registered  count  \n",
       "0  0.5303      0.64     0.3582       7          15     22  \n",
       "1  0.2727      0.65     0.2537       9          59     68  \n",
       "2  0.4394      0.41     0.1940      74         270    344  \n",
       "3  0.1970      0.93     0.1642       3         219    222  \n",
       "4  0.2727      0.45     0.2985      30         180    210  "
      ]
     },
     "execution_count": 3,
     "metadata": {},
     "output_type": "execute_result"
    }
   ],
   "source": [
    "df_train.rename(columns={'weathersit':'weather',\n",
    "                     'mnth':'month',\n",
    "                     'hr':'hour',\n",
    "                     'yr':'year',\n",
    "                     'hum': 'humidity',\n",
    "                     'cnt':'count'},inplace=True)\n",
    "df_train.head()"
   ]
  },
  {
   "cell_type": "markdown",
   "metadata": {},
   "source": [
    "Some data types need to be changed from numerical to categorical in order for the model to interpret better these variables. After some tries we found that these variables optimize better our model."
   ]
  },
  {
   "cell_type": "code",
   "execution_count": 4,
   "metadata": {},
   "outputs": [
    {
     "data": {
      "text/plain": [
       "season         object\n",
       "year            int64\n",
       "month           int64\n",
       "hour            int64\n",
       "holiday        object\n",
       "weekday        object\n",
       "workingday     object\n",
       "weather         int64\n",
       "temp          float64\n",
       "atemp         float64\n",
       "humidity      float64\n",
       "windspeed     float64\n",
       "casual          int64\n",
       "registered      int64\n",
       "count           int64\n",
       "dtype: object"
      ]
     },
     "execution_count": 4,
     "metadata": {},
     "output_type": "execute_result"
    }
   ],
   "source": [
    "#Convert to object type\n",
    "df_train['season'] = df_train.season.astype('object')\n",
    "#df_train['year'] = df_train.year.astype('object')\n",
    "#df_train['month'] = df_train.month.astype('object')\n",
    "#df_train['hour'] = df_train.hour.astype('object')\n",
    "df_train['holiday'] = df_train.holiday.astype('object')\n",
    "df_train['weekday'] = df_train.weekday.astype('object')\n",
    "df_train['workingday'] = df_train.workingday.astype('object')\n",
    "#df_train['weather'] = df_train.weather.astype('object')\n",
    "\n",
    "df_train.dtypes"
   ]
  },
  {
   "cell_type": "markdown",
   "metadata": {},
   "source": [
    "###  Exploratory Data Analysis"
   ]
  },
  {
   "cell_type": "markdown",
   "metadata": {},
   "source": [
    "Analyze the change in bike sharing pattern (`count` variable) with categorical variables:"
   ]
  },
  {
   "cell_type": "code",
   "execution_count": 5,
   "metadata": {},
   "outputs": [
    {
     "data": {
      "text/plain": [
       "<AxesSubplot:xlabel='workingday', ylabel='count'>"
      ]
     },
     "execution_count": 5,
     "metadata": {},
     "output_type": "execute_result"
    },
    {
     "data": {
      "image/png": "[encoded data removed]",
      "text/plain": [
       "<Figure size 1080x1800 with 4 Axes>"
      ]
     },
     "metadata": {
      "needs_background": "light"
     },
     "output_type": "display_data"
    }
   ],
   "source": [
    "fig,[ax1,ax2,ax3,ax4] = plt.subplots(nrows=4, figsize=(15,25))\n",
    "sn.barplot(x = df_train['season'], y = df_train['count'],ax = ax1)\n",
    "sn.barplot(x = df_train['holiday'], y = df_train['count'],ax = ax2)\n",
    "sn.barplot(x = df_train['weekday'], y = df_train['count'],ax = ax3)\n",
    "sn.barplot(x = df_train['workingday'], y = df_train['count'],ax = ax4)"
   ]
  },
  {
   "cell_type": "markdown",
   "metadata": {},
   "source": [
    "### Correlation Analysis"
   ]
  },
  {
   "cell_type": "markdown",
   "metadata": {},
   "source": [
    "To see how numerical variables are connected with each other, data correlation can be checked:"
   ]
  },
  {
   "cell_type": "code",
   "execution_count": 6,
   "metadata": {},
   "outputs": [
    {
     "data": {
      "text/plain": [
       "<AxesSubplot:>"
      ]
     },
     "execution_count": 6,
     "metadata": {},
     "output_type": "execute_result"
    },
    {
     "data": {
      "image/png": "[encoded data removed]",
      "text/plain": [
       "<Figure size 1080x720 with 2 Axes>"
      ]
     },
     "metadata": {
      "needs_background": "light"
     },
     "output_type": "display_data"
    }
   ],
   "source": [
    "data_corr = df_train[['temp', 'atemp', 'humidity', 'windspeed', 'casual', 'registered', 'count']].corr()\n",
    "mask = np.array(data_corr)\n",
    "mask[np.tril_indices_from(mask)] = False\n",
    "fig = plt.subplots(figsize=(15, 10))\n",
    "sn.heatmap(data_corr, mask=mask, vmax=1, square=True, annot=True, cmap=\"YlGnBu\")"
   ]
  },
  {
   "cell_type": "markdown",
   "metadata": {},
   "source": [
    "It can be observed that:\n",
    "- `temp` and `atemp` are strongly correlated. To reduce the dimensionality of the predictive model, the feature `temp` is dismissed.\n",
    "- `casual` and `registered` contain direct information about the bike sharing `count` which we want to predict (data leakage). Therefore they are not considered in the feature set.\n",
    "- `atemp` has positive correlation and `humidity` has negative correlation with `count`.\n",
    "- `windspeed` has little correlation with `count`.\n",
    "- The variables `hour` and `atemp` seem to be promising features for the bike sharing count prediction."
   ]
  },
  {
   "cell_type": "markdown",
   "metadata": {},
   "source": [
    "# Model building"
   ]
  },
  {
   "cell_type": "code",
   "execution_count": 7,
   "metadata": {},
   "outputs": [
    {
     "data": {
      "text/html": [
       "<div>\n",
       "<style scoped>\n",
       "    .dataframe tbody tr th:only-of-type {\n",
       "        vertical-align: middle;\n",
       "    }\n",
       "\n",
       "    .dataframe tbody tr th {\n",
       "        vertical-align: top;\n",
       "    }\n",
       "\n",
       "    .dataframe thead th {\n",
       "        text-align: right;\n",
       "    }\n",
       "</style>\n",
       "<table border=\"1\" class=\"dataframe\">\n",
       "  <thead>\n",
       "    <tr style=\"text-align: right;\">\n",
       "      <th></th>\n",
       "      <th>season</th>\n",
       "      <th>year</th>\n",
       "      <th>month</th>\n",
       "      <th>hour</th>\n",
       "      <th>holiday</th>\n",
       "      <th>weekday</th>\n",
       "      <th>workingday</th>\n",
       "      <th>weather</th>\n",
       "      <th>temp</th>\n",
       "      <th>atemp</th>\n",
       "      <th>humidity</th>\n",
       "      <th>count</th>\n",
       "    </tr>\n",
       "  </thead>\n",
       "  <tbody>\n",
       "    <tr>\n",
       "      <th>0</th>\n",
       "      <td>4</td>\n",
       "      <td>0</td>\n",
       "      <td>11</td>\n",
       "      <td>0</td>\n",
       "      <td>0</td>\n",
       "      <td>2</td>\n",
       "      <td>1</td>\n",
       "      <td>1</td>\n",
       "      <td>0.56</td>\n",
       "      <td>0.5303</td>\n",
       "      <td>0.64</td>\n",
       "      <td>22</td>\n",
       "    </tr>\n",
       "    <tr>\n",
       "      <th>1</th>\n",
       "      <td>1</td>\n",
       "      <td>0</td>\n",
       "      <td>2</td>\n",
       "      <td>21</td>\n",
       "      <td>0</td>\n",
       "      <td>6</td>\n",
       "      <td>0</td>\n",
       "      <td>1</td>\n",
       "      <td>0.28</td>\n",
       "      <td>0.2727</td>\n",
       "      <td>0.65</td>\n",
       "      <td>68</td>\n",
       "    </tr>\n",
       "    <tr>\n",
       "      <th>2</th>\n",
       "      <td>4</td>\n",
       "      <td>1</td>\n",
       "      <td>11</td>\n",
       "      <td>12</td>\n",
       "      <td>0</td>\n",
       "      <td>3</td>\n",
       "      <td>1</td>\n",
       "      <td>1</td>\n",
       "      <td>0.44</td>\n",
       "      <td>0.4394</td>\n",
       "      <td>0.41</td>\n",
       "      <td>344</td>\n",
       "    </tr>\n",
       "    <tr>\n",
       "      <th>3</th>\n",
       "      <td>1</td>\n",
       "      <td>1</td>\n",
       "      <td>1</td>\n",
       "      <td>7</td>\n",
       "      <td>0</td>\n",
       "      <td>2</td>\n",
       "      <td>1</td>\n",
       "      <td>2</td>\n",
       "      <td>0.18</td>\n",
       "      <td>0.1970</td>\n",
       "      <td>0.93</td>\n",
       "      <td>222</td>\n",
       "    </tr>\n",
       "    <tr>\n",
       "      <th>4</th>\n",
       "      <td>1</td>\n",
       "      <td>1</td>\n",
       "      <td>3</td>\n",
       "      <td>16</td>\n",
       "      <td>0</td>\n",
       "      <td>1</td>\n",
       "      <td>1</td>\n",
       "      <td>1</td>\n",
       "      <td>0.30</td>\n",
       "      <td>0.2727</td>\n",
       "      <td>0.45</td>\n",
       "      <td>210</td>\n",
       "    </tr>\n",
       "  </tbody>\n",
       "</table>\n",
       "</div>"
      ],
      "text/plain": [
       "  season  year  month  hour holiday weekday workingday  weather  temp   atemp  \\\n",
       "0      4     0     11     0       0       2          1        1  0.56  0.5303   \n",
       "1      1     0      2    21       0       6          0        1  0.28  0.2727   \n",
       "2      4     1     11    12       0       3          1        1  0.44  0.4394   \n",
       "3      1     1      1     7       0       2          1        2  0.18  0.1970   \n",
       "4      1     1      3    16       0       1          1        1  0.30  0.2727   \n",
       "\n",
       "   humidity  count  \n",
       "0      0.64     22  \n",
       "1      0.65     68  \n",
       "2      0.41    344  \n",
       "3      0.93    222  \n",
       "4      0.45    210  "
      ]
     },
     "execution_count": 7,
     "metadata": {},
     "output_type": "execute_result"
    }
   ],
   "source": [
    "#Drop columns casual, registered, windspeed\n",
    "df_train = df_train.drop(['casual', 'registered', 'windspeed'], axis=1)\n",
    "df_train.head()"
   ]
  },
  {
   "cell_type": "code",
   "execution_count": 36,
   "metadata": {},
   "outputs": [],
   "source": [
    "#Training data\n",
    "X = df_train[['season','year','month','hour','holiday','weekday','workingday','weather','atemp','humidity']]\n",
    "\n",
    "#One-hot encoding technique for better performance\n",
    "X = pd.get_dummies(X)\n",
    "\n",
    "#Set the target\n",
    "y = df_train['count']\n",
    "\n",
    "#Data split into test and train\n",
    "X_train, X_test, y_train, y_test = train_test_split(X, y, test_size=0.2, random_state=42)"
   ]
  },
  {
   "cell_type": "code",
   "execution_count": 9,
   "metadata": {},
   "outputs": [
    {
     "name": "stdout",
     "output_type": "stream",
     "text": [
      "X_train shape:  (9732, 21)\n",
      "y_train shape:  (9732,)\n",
      "X_test shape:  (2433, 21)\n",
      "y_test shape:  (2433,)\n"
     ]
    }
   ],
   "source": [
    "#Print shapes\n",
    "print('X_train shape: ',X_train.shape)\n",
    "print('y_train shape: ',y_train.shape)\n",
    "print('X_test shape: ',X_test.shape)\n",
    "print('y_test shape: ',y_test.shape)"
   ]
  },
  {
   "cell_type": "markdown",
   "metadata": {},
   "source": [
    "We first start testing the performance of different regression algorithms."
   ]
  },
  {
   "cell_type": "code",
   "execution_count": 10,
   "metadata": {},
   "outputs": [
    {
     "data": {
      "text/html": [
       "<div>\n",
       "<style scoped>\n",
       "    .dataframe tbody tr th:only-of-type {\n",
       "        vertical-align: middle;\n",
       "    }\n",
       "\n",
       "    .dataframe tbody tr th {\n",
       "        vertical-align: top;\n",
       "    }\n",
       "\n",
       "    .dataframe thead th {\n",
       "        text-align: right;\n",
       "    }\n",
       "</style>\n",
       "<table border=\"1\" class=\"dataframe\">\n",
       "  <thead>\n",
       "    <tr style=\"text-align: right;\">\n",
       "      <th></th>\n",
       "      <th>Modelling Algo</th>\n",
       "      <th>RMSLE</th>\n",
       "    </tr>\n",
       "  </thead>\n",
       "  <tbody>\n",
       "    <tr>\n",
       "      <th>0</th>\n",
       "      <td>ExtraTreeRegressor</td>\n",
       "      <td>0.332168</td>\n",
       "    </tr>\n",
       "    <tr>\n",
       "      <th>1</th>\n",
       "      <td>RandomForestRegressor</td>\n",
       "      <td>0.342849</td>\n",
       "    </tr>\n",
       "    <tr>\n",
       "      <th>2</th>\n",
       "      <td>AdaBoostRegressor</td>\n",
       "      <td>1.077291</td>\n",
       "    </tr>\n",
       "    <tr>\n",
       "      <th>3</th>\n",
       "      <td>KNeighborsRegressor</td>\n",
       "      <td>0.415221</td>\n",
       "    </tr>\n",
       "    <tr>\n",
       "      <th>4</th>\n",
       "      <td>XGBRegressor</td>\n",
       "      <td>0.502447</td>\n",
       "    </tr>\n",
       "    <tr>\n",
       "      <th>5</th>\n",
       "      <td>DecisionTreeRegressor</td>\n",
       "      <td>0.473374</td>\n",
       "    </tr>\n",
       "    <tr>\n",
       "      <th>6</th>\n",
       "      <td>GradientBoostingRegressor</td>\n",
       "      <td>0.745488</td>\n",
       "    </tr>\n",
       "  </tbody>\n",
       "</table>\n",
       "</div>"
      ],
      "text/plain": [
       "              Modelling Algo     RMSLE\n",
       "0         ExtraTreeRegressor  0.332168\n",
       "1      RandomForestRegressor  0.342849\n",
       "2          AdaBoostRegressor  1.077291\n",
       "3        KNeighborsRegressor  0.415221\n",
       "4               XGBRegressor  0.502447\n",
       "5      DecisionTreeRegressor  0.473374\n",
       "6  GradientBoostingRegressor  0.745488"
      ]
     },
     "execution_count": 10,
     "metadata": {},
     "output_type": "execute_result"
    }
   ],
   "source": [
    "#Initialize models\n",
    "models=[ExtraTreesRegressor(),RandomForestRegressor(),AdaBoostRegressor(),KNeighborsRegressor(), xgb.XGBRegressor(),DecisionTreeRegressor(),GradientBoostingRegressor()]\n",
    "model_names=['ExtraTreeRegressor','RandomForestRegressor','AdaBoostRegressor','KNeighborsRegressor','XGBRegressor','DecisionTreeRegressor','GradientBoostingRegressor']\n",
    "rmsle=[]\n",
    "d={}\n",
    "\n",
    "#Fit and predict\n",
    "for model in range (len(models)):\n",
    "    clf=models[model]\n",
    "    clf.fit(X_train,y_train)\n",
    "    y_pred=clf.predict(X_test)\n",
    "    for i, _  in enumerate(y_pred):\n",
    "        if y_pred[i] < 0:\n",
    "            y_pred[i] = 0\n",
    "    rmsle.append(np.sqrt(mean_squared_log_error(y_pred,y_test)))\n",
    "    \n",
    "#Create DataFrame from Model,RMSLE\n",
    "d={'Modelling Algo':model_names,'RMSLE':rmsle}   \n",
    "rmsle_frame=pd.DataFrame(d)\n",
    "rmsle_frame"
   ]
  },
  {
   "cell_type": "code",
   "execution_count": 11,
   "metadata": {
    "scrolled": true
   },
   "outputs": [
    {
     "name": "stderr",
     "output_type": "stream",
     "text": [
      "c:\\users\\zisis\\appdata\\local\\programs\\python\\python39\\lib\\site-packages\\seaborn\\categorical.py:3714: UserWarning: The `factorplot` function has been renamed to `catplot`. The original name will be removed in a future release. Please update your code. Note that the default `kind` in `factorplot` (`'point'`) has changed `'strip'` in `catplot`.\n",
      "  warnings.warn(msg)\n",
      "c:\\users\\zisis\\appdata\\local\\programs\\python\\python39\\lib\\site-packages\\seaborn\\categorical.py:3720: UserWarning: The `size` parameter has been renamed to `height`; please update your code.\n",
      "  warnings.warn(msg, UserWarning)\n"
     ]
    },
    {
     "data": {
      "text/plain": [
       "<seaborn.axisgrid.FacetGrid at 0x227e53c9520>"
      ]
     },
     "execution_count": 11,
     "metadata": {},
     "output_type": "execute_result"
    },
    {
     "data": {
      "image/png": "[encoded data removed]",
      "text/plain": [
       "<Figure size 1008x504 with 1 Axes>"
      ]
     },
     "metadata": {
      "needs_background": "light"
     },
     "output_type": "display_data"
    }
   ],
   "source": [
    "sn.factorplot(x='Modelling Algo',y='RMSLE',data=rmsle_frame,kind='point',size=7,aspect=2)"
   ]
  },
  {
   "cell_type": "markdown",
   "metadata": {},
   "source": [
    "We see that ExtraTreesRegressor has the best RMSLE score so we start with it. We want to find the best parameters so we use GridSearchCV."
   ]
  },
  {
   "cell_type": "code",
   "execution_count": 37,
   "metadata": {
    "scrolled": true
   },
   "outputs": [
    {
     "name": "stdout",
     "output_type": "stream",
     "text": [
      "Fitting 5 folds for each of 16 candidates, totalling 80 fits\n",
      "[CV] END max_depth=100, min_samples_split=3, n_estimators=300, n_jobs=-1, random_state=42; total time=  10.1s\n",
      "[CV] END max_depth=100, min_samples_split=3, n_estimators=300, n_jobs=-1, random_state=42; total time=   4.3s\n",
      "[CV] END max_depth=100, min_samples_split=3, n_estimators=300, n_jobs=-1, random_state=42; total time=   4.3s\n",
      "[CV] END max_depth=100, min_samples_split=3, n_estimators=300, n_jobs=-1, random_state=42; total time=   3.9s\n",
      "[CV] END max_depth=100, min_samples_split=3, n_estimators=300, n_jobs=-1, random_state=42; total time=   4.0s\n",
      "[CV] END max_depth=100, min_samples_split=3, n_estimators=300, n_jobs=-1, random_state=52; total time=   4.2s\n",
      "[CV] END max_depth=100, min_samples_split=3, n_estimators=300, n_jobs=-1, random_state=52; total time=   3.7s\n",
      "[CV] END max_depth=100, min_samples_split=3, n_estimators=300, n_jobs=-1, random_state=52; total time=   4.3s\n",
      "[CV] END max_depth=100, min_samples_split=3, n_estimators=300, n_jobs=-1, random_state=52; total time=   4.4s\n",
      "[CV] END max_depth=100, min_samples_split=3, n_estimators=300, n_jobs=-1, random_state=52; total time=   4.5s\n",
      "[CV] END max_depth=100, min_samples_split=3, n_estimators=500, n_jobs=-1, random_state=42; total time=   6.7s\n",
      "[CV] END max_depth=100, min_samples_split=3, n_estimators=500, n_jobs=-1, random_state=42; total time=   6.6s\n",
      "[CV] END max_depth=100, min_samples_split=3, n_estimators=500, n_jobs=-1, random_state=42; total time=   7.0s\n",
      "[CV] END max_depth=100, min_samples_split=3, n_estimators=500, n_jobs=-1, random_state=42; total time=   7.9s\n",
      "[CV] END max_depth=100, min_samples_split=3, n_estimators=500, n_jobs=-1, random_state=42; total time=   6.7s\n",
      "[CV] END max_depth=100, min_samples_split=3, n_estimators=500, n_jobs=-1, random_state=52; total time=   8.0s\n",
      "[CV] END max_depth=100, min_samples_split=3, n_estimators=500, n_jobs=-1, random_state=52; total time=   7.0s\n",
      "[CV] END max_depth=100, min_samples_split=3, n_estimators=500, n_jobs=-1, random_state=52; total time=   8.1s\n",
      "[CV] END max_depth=100, min_samples_split=3, n_estimators=500, n_jobs=-1, random_state=52; total time=   7.3s\n",
      "[CV] END max_depth=100, min_samples_split=3, n_estimators=500, n_jobs=-1, random_state=52; total time=   7.5s\n",
      "[CV] END max_depth=100, min_samples_split=4, n_estimators=300, n_jobs=-1, random_state=42; total time=   4.5s\n",
      "[CV] END max_depth=100, min_samples_split=4, n_estimators=300, n_jobs=-1, random_state=42; total time=   4.2s\n",
      "[CV] END max_depth=100, min_samples_split=4, n_estimators=300, n_jobs=-1, random_state=42; total time=   4.5s\n",
      "[CV] END max_depth=100, min_samples_split=4, n_estimators=300, n_jobs=-1, random_state=42; total time=   4.4s\n",
      "[CV] END max_depth=100, min_samples_split=4, n_estimators=300, n_jobs=-1, random_state=42; total time=   3.8s\n",
      "[CV] END max_depth=100, min_samples_split=4, n_estimators=300, n_jobs=-1, random_state=52; total time=   3.9s\n",
      "[CV] END max_depth=100, min_samples_split=4, n_estimators=300, n_jobs=-1, random_state=52; total time=   4.6s\n",
      "[CV] END max_depth=100, min_samples_split=4, n_estimators=300, n_jobs=-1, random_state=52; total time=   4.3s\n",
      "[CV] END max_depth=100, min_samples_split=4, n_estimators=300, n_jobs=-1, random_state=52; total time=   4.4s\n",
      "[CV] END max_depth=100, min_samples_split=4, n_estimators=300, n_jobs=-1, random_state=52; total time=   4.1s\n",
      "[CV] END max_depth=100, min_samples_split=4, n_estimators=500, n_jobs=-1, random_state=42; total time=   7.9s\n",
      "[CV] END max_depth=100, min_samples_split=4, n_estimators=500, n_jobs=-1, random_state=42; total time=   7.2s\n",
      "[CV] END max_depth=100, min_samples_split=4, n_estimators=500, n_jobs=-1, random_state=42; total time=   6.9s\n",
      "[CV] END max_depth=100, min_samples_split=4, n_estimators=500, n_jobs=-1, random_state=42; total time=   7.2s\n",
      "[CV] END max_depth=100, min_samples_split=4, n_estimators=500, n_jobs=-1, random_state=42; total time=   7.2s\n",
      "[CV] END max_depth=100, min_samples_split=4, n_estimators=500, n_jobs=-1, random_state=52; total time=   6.7s\n",
      "[CV] END max_depth=100, min_samples_split=4, n_estimators=500, n_jobs=-1, random_state=52; total time=   7.4s\n",
      "[CV] END max_depth=100, min_samples_split=4, n_estimators=500, n_jobs=-1, random_state=52; total time=   7.2s\n",
      "[CV] END max_depth=100, min_samples_split=4, n_estimators=500, n_jobs=-1, random_state=52; total time=   6.5s\n",
      "[CV] END max_depth=100, min_samples_split=4, n_estimators=500, n_jobs=-1, random_state=52; total time=   7.2s\n",
      "[CV] END max_depth=200, min_samples_split=3, n_estimators=300, n_jobs=-1, random_state=42; total time=   4.6s\n",
      "[CV] END max_depth=200, min_samples_split=3, n_estimators=300, n_jobs=-1, random_state=42; total time=   4.5s\n",
      "[CV] END max_depth=200, min_samples_split=3, n_estimators=300, n_jobs=-1, random_state=42; total time=   4.9s\n",
      "[CV] END max_depth=200, min_samples_split=3, n_estimators=300, n_jobs=-1, random_state=42; total time=   4.8s\n",
      "[CV] END max_depth=200, min_samples_split=3, n_estimators=300, n_jobs=-1, random_state=42; total time=   4.8s\n",
      "[CV] END max_depth=200, min_samples_split=3, n_estimators=300, n_jobs=-1, random_state=52; total time=   4.8s\n",
      "[CV] END max_depth=200, min_samples_split=3, n_estimators=300, n_jobs=-1, random_state=52; total time=   4.8s\n",
      "[CV] END max_depth=200, min_samples_split=3, n_estimators=300, n_jobs=-1, random_state=52; total time=   4.7s\n",
      "[CV] END max_depth=200, min_samples_split=3, n_estimators=300, n_jobs=-1, random_state=52; total time=   4.4s\n",
      "[CV] END max_depth=200, min_samples_split=3, n_estimators=300, n_jobs=-1, random_state=52; total time=   5.0s\n",
      "[CV] END max_depth=200, min_samples_split=3, n_estimators=500, n_jobs=-1, random_state=42; total time=   8.1s\n",
      "[CV] END max_depth=200, min_samples_split=3, n_estimators=500, n_jobs=-1, random_state=42; total time=   8.1s\n",
      "[CV] END max_depth=200, min_samples_split=3, n_estimators=500, n_jobs=-1, random_state=42; total time=   8.0s\n",
      "[CV] END max_depth=200, min_samples_split=3, n_estimators=500, n_jobs=-1, random_state=42; total time=   7.3s\n",
      "[CV] END max_depth=200, min_samples_split=3, n_estimators=500, n_jobs=-1, random_state=42; total time=   8.2s\n",
      "[CV] END max_depth=200, min_samples_split=3, n_estimators=500, n_jobs=-1, random_state=52; total time=   7.6s\n",
      "[CV] END max_depth=200, min_samples_split=3, n_estimators=500, n_jobs=-1, random_state=52; total time=   8.1s\n",
      "[CV] END max_depth=200, min_samples_split=3, n_estimators=500, n_jobs=-1, random_state=52; total time=   8.0s\n",
      "[CV] END max_depth=200, min_samples_split=3, n_estimators=500, n_jobs=-1, random_state=52; total time=   7.9s\n",
      "[CV] END max_depth=200, min_samples_split=3, n_estimators=500, n_jobs=-1, random_state=52; total time=   7.6s\n",
      "[CV] END max_depth=200, min_samples_split=4, n_estimators=300, n_jobs=-1, random_state=42; total time=   4.3s\n",
      "[CV] END max_depth=200, min_samples_split=4, n_estimators=300, n_jobs=-1, random_state=42; total time=   4.3s\n",
      "[CV] END max_depth=200, min_samples_split=4, n_estimators=300, n_jobs=-1, random_state=42; total time=   4.3s\n",
      "[CV] END max_depth=200, min_samples_split=4, n_estimators=300, n_jobs=-1, random_state=42; total time=   4.3s\n",
      "[CV] END max_depth=200, min_samples_split=4, n_estimators=300, n_jobs=-1, random_state=42; total time=   4.3s\n",
      "[CV] END max_depth=200, min_samples_split=4, n_estimators=300, n_jobs=-1, random_state=52; total time=   4.6s\n",
      "[CV] END max_depth=200, min_samples_split=4, n_estimators=300, n_jobs=-1, random_state=52; total time=   4.3s\n",
      "[CV] END max_depth=200, min_samples_split=4, n_estimators=300, n_jobs=-1, random_state=52; total time=   4.1s\n",
      "[CV] END max_depth=200, min_samples_split=4, n_estimators=300, n_jobs=-1, random_state=52; total time=   4.2s\n",
      "[CV] END max_depth=200, min_samples_split=4, n_estimators=300, n_jobs=-1, random_state=52; total time=   4.2s\n",
      "[CV] END max_depth=200, min_samples_split=4, n_estimators=500, n_jobs=-1, random_state=42; total time=   7.1s\n",
      "[CV] END max_depth=200, min_samples_split=4, n_estimators=500, n_jobs=-1, random_state=42; total time=   7.0s\n",
      "[CV] END max_depth=200, min_samples_split=4, n_estimators=500, n_jobs=-1, random_state=42; total time=   7.2s\n",
      "[CV] END max_depth=200, min_samples_split=4, n_estimators=500, n_jobs=-1, random_state=42; total time=   7.9s\n"
     ]
    },
    {
     "name": "stdout",
     "output_type": "stream",
     "text": [
      "[CV] END max_depth=200, min_samples_split=4, n_estimators=500, n_jobs=-1, random_state=42; total time=   7.1s\n",
      "[CV] END max_depth=200, min_samples_split=4, n_estimators=500, n_jobs=-1, random_state=52; total time=   7.2s\n",
      "[CV] END max_depth=200, min_samples_split=4, n_estimators=500, n_jobs=-1, random_state=52; total time=   7.2s\n",
      "[CV] END max_depth=200, min_samples_split=4, n_estimators=500, n_jobs=-1, random_state=52; total time=   7.2s\n",
      "[CV] END max_depth=200, min_samples_split=4, n_estimators=500, n_jobs=-1, random_state=52; total time=   7.2s\n",
      "[CV] END max_depth=200, min_samples_split=4, n_estimators=500, n_jobs=-1, random_state=52; total time=   7.4s\n"
     ]
    },
    {
     "data": {
      "text/plain": [
       "GridSearchCV(estimator=ExtraTreesRegressor(),\n",
       "             param_grid={'max_depth': [100, 200], 'min_samples_split': [3, 4],\n",
       "                         'n_estimators': [300, 500], 'n_jobs': [-1],\n",
       "                         'random_state': [42, 52]},\n",
       "             verbose=2)"
      ]
     },
     "execution_count": 37,
     "metadata": {},
     "output_type": "execute_result"
    }
   ],
   "source": [
    "#Initialize ExtraTreesRegressor\n",
    "clf = ExtraTreesRegressor()\n",
    "\n",
    "#Initialize params\n",
    "# param_grid = {\n",
    "#     'n_estimators': [200,300,500],\n",
    "#     'n_jobs':[-1],\n",
    "#     'random_state':[42,52,62],\n",
    "#     'min_samples_split': [2,3,4],\n",
    "#     'max_depth': [100,200,300]\n",
    "# }\n",
    "param_grid = {\n",
    "    'n_estimators': [300, 500],\n",
    "    'n_jobs':[-1],\n",
    "    'random_state':[42, 52],\n",
    "    'min_samples_split': [3, 4],\n",
    "    'max_depth': [100, 200]\n",
    "}\n",
    "#Initialize GridSearchCV\n",
    "grid_search = GridSearchCV(estimator = clf, param_grid = param_grid, verbose = 2)\n",
    "\n",
    "#Fit GridSearchCV\n",
    "grid_search.fit(X_train,y_train)"
   ]
  },
  {
   "cell_type": "code",
   "execution_count": 38,
   "metadata": {},
   "outputs": [
    {
     "name": "stdout",
     "output_type": "stream",
     "text": [
      "{'max_depth': 100, 'min_samples_split': 4, 'n_estimators': 500, 'n_jobs': -1, 'random_state': 52}\n",
      "RMSLE: 0.3305973730187315\n"
     ]
    }
   ],
   "source": [
    "#Find the best params\n",
    "print(grid_search.best_params_)\n",
    "\n",
    "#Find the best estimator\n",
    "best_grid = grid_search.best_estimator_\n",
    "\n",
    "#Fit with the best params\n",
    "best_grid.fit(X_train, y_train)\n",
    "\n",
    "#Predict\n",
    "y_pred = best_grid.predict(X_test)\n",
    "\n",
    "#If predicted value is negative then we set it zero.\n",
    "for i, _  in enumerate(y_pred):\n",
    "    if y_pred[i] < 0:\n",
    "        y_pred[i] = 0\n",
    "\n",
    "#Print RMSLE Score\n",
    "print('RMSLE:', np.sqrt(mean_squared_log_error(y_test, y_pred)))"
   ]
  },
  {
   "cell_type": "code",
   "execution_count": 39,
   "metadata": {},
   "outputs": [
    {
     "name": "stderr",
     "output_type": "stream",
     "text": [
      "c:\\users\\zisis\\appdata\\local\\programs\\python\\python39\\lib\\site-packages\\seaborn\\_decorators.py:36: FutureWarning: Pass the following variables as keyword args: x, y. From version 0.12, the only valid positional argument will be `data`, and passing other arguments without an explicit keyword will result in an error or misinterpretation.\n",
      "  warnings.warn(\n"
     ]
    },
    {
     "data": {
      "text/plain": [
       "[Text(0.5, 1.0, 'Comparison between the actual vs predicted values')]"
      ]
     },
     "execution_count": 39,
     "metadata": {},
     "output_type": "execute_result"
    },
    {
     "data": {
      "image/png": "[encoded data removed]",
      "text/plain": [
       "<Figure size 432x288 with 1 Axes>"
      ]
     },
     "metadata": {
      "needs_background": "light"
     },
     "output_type": "display_data"
    }
   ],
   "source": [
    "#Plot comparison between the actual versus the predicted value\n",
    "ax = sn.regplot(y_test, y_pred, x_bins = 200)\n",
    "ax.set(title = \"Comparison between the actual vs predicted values\")"
   ]
  },
  {
   "cell_type": "markdown",
   "metadata": {},
   "source": [
    "We also tested PCA, SVD for dimensionality reduction, but we didn't see any imrovement, so we didn't include it in this notebook."
   ]
  },
  {
   "cell_type": "markdown",
   "metadata": {},
   "source": [
    "Then tested Voting Regressor which use not so good algorithms, but the combination of them gives a very good result."
   ]
  },
  {
   "cell_type": "code",
   "execution_count": 40,
   "metadata": {},
   "outputs": [
    {
     "name": "stdout",
     "output_type": "stream",
     "text": [
      "RMSLE:  0.3695606345219476\n"
     ]
    }
   ],
   "source": [
    "# Use best parameters found before\n",
    "rf = RandomForestRegressor()\n",
    "dt = DecisionTreeRegressor()\n",
    "\n",
    "#Voting\n",
    "vr = VotingRegressor(estimators=[('rf', rf), ('dt', dt)], n_jobs=-1)\n",
    "vr.fit(X_train, y_train)\n",
    "#Prediction\n",
    "y_pred = vr.predict(X_test)\n",
    "for i, _  in enumerate(y_pred):\n",
    "    if y_pred[i] < 0:\n",
    "        y_pred[i] = 0\n",
    "print('RMSLE: ', (np.sqrt(mean_squared_log_error(y_pred,y_test))))"
   ]
  },
  {
   "cell_type": "markdown",
   "metadata": {},
   "source": [
    "With all the above we had a 0,30 Rmsle score at Kaggle's leaderboard. So we decided to use Neural Network."
   ]
  },
  {
   "cell_type": "code",
   "execution_count": 10,
   "metadata": {},
   "outputs": [
    {
     "name": "stdout",
     "output_type": "stream",
     "text": [
      "2.5.0\n"
     ]
    }
   ],
   "source": [
    "import tensorflow as tf\n",
    "from tensorflow import keras\n",
    "from tensorflow.keras import layers\n",
    "from tensorflow.keras.models import Sequential\n",
    "from tensorflow.keras.layers import Dense, Activation, Flatten\n",
    "from tensorflow.keras.callbacks import ModelCheckpoint, EarlyStopping\n",
    "from tensorflow.keras import backend as K\n",
    "\n",
    "print(tf.__version__)"
   ]
  },
  {
   "cell_type": "code",
   "execution_count": 11,
   "metadata": {},
   "outputs": [],
   "source": [
    "tf.config.run_functions_eagerly(True)"
   ]
  },
  {
   "cell_type": "code",
   "execution_count": 12,
   "metadata": {},
   "outputs": [],
   "source": [
    "#Define our loss\n",
    "def RMSLE(y_true, y_pred):\n",
    "        return K.sqrt(K.mean((K.log(1+y_pred) - K.log(1+y_true))**2))"
   ]
  },
  {
   "cell_type": "markdown",
   "metadata": {},
   "source": [
    "For the number of layers and the unit size we tested a lot of combinations and we ended up with the following."
   ]
  },
  {
   "cell_type": "code",
   "execution_count": 13,
   "metadata": {
    "scrolled": true
   },
   "outputs": [
    {
     "name": "stdout",
     "output_type": "stream",
     "text": [
      "Model: \"sequential\"\n",
      "_________________________________________________________________\n",
      "Layer (type)                 Output Shape              Param #   \n",
      "=================================================================\n",
      "dense (Dense)                (None, 1024)              22528     \n",
      "_________________________________________________________________\n",
      "dense_1 (Dense)              (None, 256)               262400    \n",
      "_________________________________________________________________\n",
      "dense_2 (Dense)              (None, 1024)              263168    \n",
      "_________________________________________________________________\n",
      "dense_3 (Dense)              (None, 256)               262400    \n",
      "_________________________________________________________________\n",
      "dense_4 (Dense)              (None, 1)                 257       \n",
      "=================================================================\n",
      "Total params: 810,753\n",
      "Trainable params: 810,753\n",
      "Non-trainable params: 0\n",
      "_________________________________________________________________\n"
     ]
    }
   ],
   "source": [
    "#Initialize a Sequential model\n",
    "NN_model = Sequential()\n",
    "\n",
    "# The Input Layer :\n",
    "NN_model.add(Dense(1024, kernel_initializer='normal',input_dim = X_train.shape[1], activation='relu'))\n",
    "\n",
    "# The Hidden Layers :\n",
    "NN_model.add(Dense(256, kernel_initializer='normal',activation='relu'))\n",
    "NN_model.add(Dense(1024, kernel_initializer='normal',activation='relu'))\n",
    "NN_model.add(Dense(256, kernel_initializer='normal',activation='relu'))\n",
    "# The Output Layer :\n",
    "NN_model.add(Dense(1, kernel_initializer='normal',activation='linear'))\n",
    "\n",
    "# Compile the network :\n",
    "NN_model.compile(loss=RMSLE, optimizer='adam', metrics=[RMSLE])\n",
    "NN_model.summary()"
   ]
  },
  {
   "cell_type": "code",
   "execution_count": 14,
   "metadata": {},
   "outputs": [],
   "source": [
    "#We create checkpoint to keep all the epoch results and get the best one.\n",
    "checkpoint_name = 'Weights/Weights-{epoch:03d}.hdf5' \n",
    "checkpoint = ModelCheckpoint(checkpoint_name, monitor='val_loss')\n",
    "callbacks_list = [EarlyStopping(monitor='val_loss', patience=50),checkpoint] #We use early stopping"
   ]
  },
  {
   "cell_type": "code",
   "execution_count": 15,
   "metadata": {},
   "outputs": [],
   "source": [
    "#If the Weight file contains file then i delete them to keep the new ones.\n",
    "import os\n",
    "Weights=os.listdir(\"Weights\")\n",
    "for j in range(len(Weights)):\n",
    "    os.remove('Weights/'+ Weights[j])"
   ]
  },
  {
   "cell_type": "code",
   "execution_count": 16,
   "metadata": {
    "scrolled": true
   },
   "outputs": [
    {
     "name": "stderr",
     "output_type": "stream",
     "text": [
      "C:\\Users\\zisis\\AppData\\Roaming\\Python\\Python39\\site-packages\\tensorflow\\python\\data\\ops\\dataset_ops.py:3703: UserWarning: Even though the `tf.config.experimental_run_functions_eagerly` option is set, this option does not apply to tf.data functions. To force eager execution of tf.data functions, please use `tf.data.experimental.enable.debug_mode()`.\n",
      "  warnings.warn(\n"
     ]
    },
    {
     "name": "stdout",
     "output_type": "stream",
     "text": [
      "Epoch 1/200\n",
      "244/244 [==============================] - 7s 29ms/step - loss: 0.9417 - RMSLE: 0.9404 - val_loss: 0.7547 - val_RMSLE: 0.7545\n",
      "Epoch 2/200\n",
      "244/244 [==============================] - 7s 28ms/step - loss: 0.6096 - RMSLE: 0.6096 - val_loss: 0.6075 - val_RMSLE: 0.6076\n",
      "Epoch 3/200\n",
      "244/244 [==============================] - 7s 28ms/step - loss: 0.5233 - RMSLE: 0.5231 - val_loss: 0.5305 - val_RMSLE: 0.5302\n",
      "Epoch 4/200\n",
      "244/244 [==============================] - 7s 30ms/step - loss: 0.4988 - RMSLE: 0.4995 - val_loss: 0.4783 - val_RMSLE: 0.4781\n",
      "Epoch 5/200\n",
      "244/244 [==============================] - 8s 34ms/step - loss: 0.4691 - RMSLE: 0.4691 - val_loss: 0.4831 - val_RMSLE: 0.4828\n",
      "Epoch 6/200\n",
      "244/244 [==============================] - 9s 36ms/step - loss: 0.4418 - RMSLE: 0.4418 - val_loss: 0.4424 - val_RMSLE: 0.4422\n",
      "Epoch 7/200\n",
      "244/244 [==============================] - 8s 33ms/step - loss: 0.4199 - RMSLE: 0.4206 - val_loss: 0.4428 - val_RMSLE: 0.4428\n",
      "Epoch 8/200\n",
      "244/244 [==============================] - 7s 29ms/step - loss: 0.4071 - RMSLE: 0.4073 - val_loss: 0.4043 - val_RMSLE: 0.4041\n",
      "Epoch 9/200\n",
      "244/244 [==============================] - 6s 26ms/step - loss: 0.3909 - RMSLE: 0.3907 - val_loss: 0.3808 - val_RMSLE: 0.3807\n",
      "Epoch 10/200\n",
      "244/244 [==============================] - 6s 26ms/step - loss: 0.3804 - RMSLE: 0.3805 - val_loss: 0.3909 - val_RMSLE: 0.3908\n",
      "Epoch 11/200\n",
      "244/244 [==============================] - 7s 30ms/step - loss: 0.3700 - RMSLE: 0.3696 - val_loss: 0.4005 - val_RMSLE: 0.4003\n",
      "Epoch 12/200\n",
      "244/244 [==============================] - 8s 31ms/step - loss: 0.3656 - RMSLE: 0.3655 - val_loss: 0.3785 - val_RMSLE: 0.3783\n",
      "Epoch 13/200\n",
      "244/244 [==============================] - 9s 38ms/step - loss: 0.3599 - RMSLE: 0.3599 - val_loss: 0.4143 - val_RMSLE: 0.4143\n",
      "Epoch 14/200\n",
      "244/244 [==============================] - 8s 32ms/step - loss: 0.3513 - RMSLE: 0.3509 - val_loss: 0.3599 - val_RMSLE: 0.3597\n",
      "Epoch 15/200\n",
      "244/244 [==============================] - 7s 30ms/step - loss: 0.3504 - RMSLE: 0.3505 - val_loss: 0.4179 - val_RMSLE: 0.4177\n",
      "Epoch 16/200\n",
      "244/244 [==============================] - 7s 31ms/step - loss: 0.3413 - RMSLE: 0.3411 - val_loss: 0.3667 - val_RMSLE: 0.3665\n",
      "Epoch 17/200\n",
      "244/244 [==============================] - 7s 30ms/step - loss: 0.3358 - RMSLE: 0.3360 - val_loss: 0.3644 - val_RMSLE: 0.3642\n",
      "Epoch 18/200\n",
      "244/244 [==============================] - 7s 30ms/step - loss: 0.3362 - RMSLE: 0.3364 - val_loss: 0.3623 - val_RMSLE: 0.3621\n",
      "Epoch 19/200\n",
      "244/244 [==============================] - 7s 28ms/step - loss: 0.3247 - RMSLE: 0.3247 - val_loss: 0.3478 - val_RMSLE: 0.3477\n",
      "Epoch 20/200\n",
      "244/244 [==============================] - 6s 26ms/step - loss: 0.3278 - RMSLE: 0.3276 - val_loss: 0.3436 - val_RMSLE: 0.3435\n",
      "Epoch 21/200\n",
      "244/244 [==============================] - 8s 31ms/step - loss: 0.3183 - RMSLE: 0.3182 - val_loss: 0.3512 - val_RMSLE: 0.3511\n",
      "Epoch 22/200\n",
      "244/244 [==============================] - 9s 38ms/step - loss: 0.3240 - RMSLE: 0.3245 - val_loss: 0.3570 - val_RMSLE: 0.3570\n",
      "Epoch 23/200\n",
      "244/244 [==============================] - 9s 39ms/step - loss: 0.3207 - RMSLE: 0.3214 - val_loss: 0.3481 - val_RMSLE: 0.3480\n",
      "Epoch 24/200\n",
      "244/244 [==============================] - 8s 33ms/step - loss: 0.3195 - RMSLE: 0.3211 - val_loss: 0.3824 - val_RMSLE: 0.3823\n",
      "Epoch 25/200\n",
      "244/244 [==============================] - 8s 32ms/step - loss: 0.3183 - RMSLE: 0.3183 - val_loss: 0.3327 - val_RMSLE: 0.3326\n",
      "Epoch 26/200\n",
      "244/244 [==============================] - 8s 31ms/step - loss: 0.3132 - RMSLE: 0.3130 - val_loss: 0.3558 - val_RMSLE: 0.3557\n",
      "Epoch 27/200\n",
      "244/244 [==============================] - 8s 31ms/step - loss: 0.3063 - RMSLE: 0.3064 - val_loss: 0.3313 - val_RMSLE: 0.3312\n",
      "Epoch 28/200\n",
      "244/244 [==============================] - 7s 27ms/step - loss: 0.3128 - RMSLE: 0.3131 - val_loss: 0.3422 - val_RMSLE: 0.3421\n",
      "Epoch 29/200\n",
      "244/244 [==============================] - 8s 32ms/step - loss: 0.3003 - RMSLE: 0.3000 - val_loss: 0.3479 - val_RMSLE: 0.3477\n",
      "Epoch 30/200\n",
      "244/244 [==============================] - 7s 30ms/step - loss: 0.3102 - RMSLE: 0.3105 - val_loss: 0.3342 - val_RMSLE: 0.3341\n",
      "Epoch 31/200\n",
      "244/244 [==============================] - 8s 34ms/step - loss: 0.3024 - RMSLE: 0.3023 - val_loss: 0.3547 - val_RMSLE: 0.3546\n",
      "Epoch 32/200\n",
      "244/244 [==============================] - 8s 35ms/step - loss: 0.3000 - RMSLE: 0.3001 - val_loss: 0.3524 - val_RMSLE: 0.3524\n",
      "Epoch 33/200\n",
      "244/244 [==============================] - 8s 31ms/step - loss: 0.2957 - RMSLE: 0.2957 - val_loss: 0.3356 - val_RMSLE: 0.3355\n",
      "Epoch 34/200\n",
      "244/244 [==============================] - 7s 29ms/step - loss: 0.2969 - RMSLE: 0.2971 - val_loss: 0.3829 - val_RMSLE: 0.3830\n",
      "Epoch 35/200\n",
      "244/244 [==============================] - 7s 29ms/step - loss: 0.2909 - RMSLE: 0.2907 - val_loss: 0.3357 - val_RMSLE: 0.3356\n",
      "Epoch 36/200\n",
      "244/244 [==============================] - 8s 35ms/step - loss: 0.2952 - RMSLE: 0.2948 - val_loss: 0.3820 - val_RMSLE: 0.3818\n",
      "Epoch 37/200\n",
      "244/244 [==============================] - 9s 37ms/step - loss: 0.2913 - RMSLE: 0.2910 - val_loss: 0.3379 - val_RMSLE: 0.3378\n",
      "Epoch 38/200\n",
      "244/244 [==============================] - 8s 32ms/step - loss: 0.2847 - RMSLE: 0.2848 - val_loss: 0.3523 - val_RMSLE: 0.3522\n",
      "Epoch 39/200\n",
      "244/244 [==============================] - 9s 37ms/step - loss: 0.2863 - RMSLE: 0.2859 - val_loss: 0.3540 - val_RMSLE: 0.3540\n",
      "Epoch 40/200\n",
      "244/244 [==============================] - 7s 28ms/step - loss: 0.2834 - RMSLE: 0.2833 - val_loss: 0.3587 - val_RMSLE: 0.3586\n",
      "Epoch 41/200\n",
      "244/244 [==============================] - 7s 29ms/step - loss: 0.2840 - RMSLE: 0.2839 - val_loss: 0.3384 - val_RMSLE: 0.3383\n",
      "Epoch 42/200\n",
      "244/244 [==============================] - 7s 30ms/step - loss: 0.2824 - RMSLE: 0.2825 - val_loss: 0.3412 - val_RMSLE: 0.3411\n",
      "Epoch 43/200\n",
      "244/244 [==============================] - 8s 34ms/step - loss: 0.2783 - RMSLE: 0.2784 - val_loss: 0.3542 - val_RMSLE: 0.3540\n",
      "Epoch 44/200\n",
      "244/244 [==============================] - 8s 34ms/step - loss: 0.2807 - RMSLE: 0.2814 - val_loss: 0.3948 - val_RMSLE: 0.3948\n",
      "Epoch 45/200\n",
      "244/244 [==============================] - 8s 34ms/step - loss: 0.2796 - RMSLE: 0.2796 - val_loss: 0.3311 - val_RMSLE: 0.3310\n",
      "Epoch 46/200\n",
      "244/244 [==============================] - 7s 30ms/step - loss: 0.2695 - RMSLE: 0.2691 - val_loss: 0.3294 - val_RMSLE: 0.3293\n",
      "Epoch 47/200\n",
      "244/244 [==============================] - 7s 29ms/step - loss: 0.2729 - RMSLE: 0.2724 - val_loss: 0.3283 - val_RMSLE: 0.3282\n",
      "Epoch 48/200\n",
      "244/244 [==============================] - 8s 33ms/step - loss: 0.2794 - RMSLE: 0.2791 - val_loss: 0.3329 - val_RMSLE: 0.3328\n",
      "Epoch 49/200\n",
      "244/244 [==============================] - 8s 34ms/step - loss: 0.2704 - RMSLE: 0.2705 - val_loss: 0.3436 - val_RMSLE: 0.3434\n",
      "Epoch 50/200\n",
      "244/244 [==============================] - 8s 33ms/step - loss: 0.2735 - RMSLE: 0.2737 - val_loss: 0.3429 - val_RMSLE: 0.3428\n",
      "Epoch 51/200\n",
      "244/244 [==============================] - 8s 34ms/step - loss: 0.2680 - RMSLE: 0.2682 - val_loss: 0.3501 - val_RMSLE: 0.3502\n",
      "Epoch 52/200\n",
      "244/244 [==============================] - 8s 34ms/step - loss: 0.2677 - RMSLE: 0.2675 - val_loss: 0.3371 - val_RMSLE: 0.3370\n",
      "Epoch 53/200\n",
      "244/244 [==============================] - 8s 32ms/step - loss: 0.2638 - RMSLE: 0.2635 - val_loss: 0.3376 - val_RMSLE: 0.3375\n",
      "Epoch 54/200\n",
      "244/244 [==============================] - 11s 44ms/step - loss: 0.2620 - RMSLE: 0.2621 - val_loss: 0.3267 - val_RMSLE: 0.3266\n",
      "Epoch 55/200\n",
      "244/244 [==============================] - 10s 41ms/step - loss: 0.2718 - RMSLE: 0.2718 - val_loss: 0.3415 - val_RMSLE: 0.3414\n",
      "Epoch 56/200\n",
      "244/244 [==============================] - 9s 38ms/step - loss: 0.2644 - RMSLE: 0.2646 - val_loss: 0.3337 - val_RMSLE: 0.3336\n",
      "Epoch 57/200\n",
      "244/244 [==============================] - 8s 31ms/step - loss: 0.2648 - RMSLE: 0.2657 - val_loss: 0.3281 - val_RMSLE: 0.3282\n",
      "Epoch 58/200\n",
      "244/244 [==============================] - 8s 34ms/step - loss: 0.2587 - RMSLE: 0.2586 - val_loss: 0.3210 - val_RMSLE: 0.3209\n",
      "Epoch 59/200\n",
      "244/244 [==============================] - 11s 44ms/step - loss: 0.2610 - RMSLE: 0.2608 - val_loss: 0.3410 - val_RMSLE: 0.3409\n"
     ]
    },
    {
     "name": "stdout",
     "output_type": "stream",
     "text": [
      "Epoch 60/200\n",
      "244/244 [==============================] - 8s 34ms/step - loss: 0.2576 - RMSLE: 0.2578 - val_loss: 0.3393 - val_RMSLE: 0.3393\n",
      "Epoch 61/200\n",
      "244/244 [==============================] - 8s 31ms/step - loss: 0.2556 - RMSLE: 0.2557 - val_loss: 0.3752 - val_RMSLE: 0.3751\n",
      "Epoch 62/200\n",
      "244/244 [==============================] - 7s 29ms/step - loss: 0.2600 - RMSLE: 0.2597 - val_loss: 0.3257 - val_RMSLE: 0.3257\n",
      "Epoch 63/200\n",
      "244/244 [==============================] - 6s 26ms/step - loss: 0.2563 - RMSLE: 0.2559 - val_loss: 0.3301 - val_RMSLE: 0.3300\n",
      "Epoch 64/200\n",
      "244/244 [==============================] - 6s 26ms/step - loss: 0.2489 - RMSLE: 0.2491 - val_loss: 0.3330 - val_RMSLE: 0.3329\n",
      "Epoch 65/200\n",
      "244/244 [==============================] - 7s 30ms/step - loss: 0.2519 - RMSLE: 0.2523 - val_loss: 0.3444 - val_RMSLE: 0.3442\n",
      "Epoch 66/200\n",
      "244/244 [==============================] - 7s 31ms/step - loss: 0.2540 - RMSLE: 0.2540 - val_loss: 0.3319 - val_RMSLE: 0.3317\n",
      "Epoch 67/200\n",
      "244/244 [==============================] - 7s 31ms/step - loss: 0.2520 - RMSLE: 0.2525 - val_loss: 0.3306 - val_RMSLE: 0.3305\n",
      "Epoch 68/200\n",
      "244/244 [==============================] - 8s 32ms/step - loss: 0.2443 - RMSLE: 0.2441 - val_loss: 0.3398 - val_RMSLE: 0.3398\n",
      "Epoch 69/200\n",
      "244/244 [==============================] - 7s 28ms/step - loss: 0.2472 - RMSLE: 0.2475 - val_loss: 0.3302 - val_RMSLE: 0.3302\n",
      "Epoch 70/200\n",
      "244/244 [==============================] - 8s 33ms/step - loss: 0.2491 - RMSLE: 0.2488 - val_loss: 0.3381 - val_RMSLE: 0.3380\n",
      "Epoch 71/200\n",
      "244/244 [==============================] - 8s 34ms/step - loss: 0.2472 - RMSLE: 0.2470 - val_loss: 0.3271 - val_RMSLE: 0.3271\n",
      "Epoch 72/200\n",
      "244/244 [==============================] - 7s 31ms/step - loss: 0.2435 - RMSLE: 0.2435 - val_loss: 0.3271 - val_RMSLE: 0.3271\n",
      "Epoch 73/200\n",
      "244/244 [==============================] - 7s 29ms/step - loss: 0.2435 - RMSLE: 0.2437 - val_loss: 0.3406 - val_RMSLE: 0.3406\n",
      "Epoch 74/200\n",
      "244/244 [==============================] - 8s 32ms/step - loss: 0.2429 - RMSLE: 0.2430 - val_loss: 0.3333 - val_RMSLE: 0.3332\n",
      "Epoch 75/200\n",
      "244/244 [==============================] - 8s 35ms/step - loss: 0.2404 - RMSLE: 0.2402 - val_loss: 0.3499 - val_RMSLE: 0.3498\n",
      "Epoch 76/200\n",
      "244/244 [==============================] - 8s 32ms/step - loss: 0.2395 - RMSLE: 0.2394 - val_loss: 0.3280 - val_RMSLE: 0.3279\n",
      "Epoch 77/200\n",
      "244/244 [==============================] - 8s 34ms/step - loss: 0.2387 - RMSLE: 0.2386 - val_loss: 0.3314 - val_RMSLE: 0.3313\n",
      "Epoch 78/200\n",
      "244/244 [==============================] - 7s 30ms/step - loss: 0.2432 - RMSLE: 0.2430 - val_loss: 0.3368 - val_RMSLE: 0.3367\n",
      "Epoch 79/200\n",
      "244/244 [==============================] - 8s 32ms/step - loss: 0.2390 - RMSLE: 0.2389 - val_loss: 0.3382 - val_RMSLE: 0.3381\n",
      "Epoch 80/200\n",
      "244/244 [==============================] - 8s 31ms/step - loss: 0.2404 - RMSLE: 0.2401 - val_loss: 0.3374 - val_RMSLE: 0.3373\n",
      "Epoch 81/200\n",
      "244/244 [==============================] - 8s 32ms/step - loss: 0.2318 - RMSLE: 0.2320 - val_loss: 0.3289 - val_RMSLE: 0.3288\n",
      "Epoch 82/200\n",
      "244/244 [==============================] - 8s 32ms/step - loss: 0.2353 - RMSLE: 0.2353 - val_loss: 0.3311 - val_RMSLE: 0.3310\n",
      "Epoch 83/200\n",
      "244/244 [==============================] - 7s 29ms/step - loss: 0.2354 - RMSLE: 0.2355 - val_loss: 0.3337 - val_RMSLE: 0.3336\n",
      "Epoch 84/200\n",
      "244/244 [==============================] - 8s 33ms/step - loss: 0.2286 - RMSLE: 0.2283 - val_loss: 0.3374 - val_RMSLE: 0.3374\n",
      "Epoch 85/200\n",
      "244/244 [==============================] - 8s 33ms/step - loss: 0.2306 - RMSLE: 0.2311 - val_loss: 0.3338 - val_RMSLE: 0.3337\n",
      "Epoch 86/200\n",
      "244/244 [==============================] - 8s 31ms/step - loss: 0.2301 - RMSLE: 0.2300 - val_loss: 0.3663 - val_RMSLE: 0.3664\n",
      "Epoch 87/200\n",
      "244/244 [==============================] - 8s 33ms/step - loss: 0.2340 - RMSLE: 0.2336 - val_loss: 0.3270 - val_RMSLE: 0.3270\n",
      "Epoch 88/200\n",
      "244/244 [==============================] - 8s 34ms/step - loss: 0.2307 - RMSLE: 0.2317 - val_loss: 0.3298 - val_RMSLE: 0.3297\n",
      "Epoch 89/200\n",
      "244/244 [==============================] - 7s 30ms/step - loss: 0.2302 - RMSLE: 0.2299 - val_loss: 0.3376 - val_RMSLE: 0.3375\n",
      "Epoch 90/200\n",
      "244/244 [==============================] - 11s 44ms/step - loss: 0.2310 - RMSLE: 0.2312 - val_loss: 0.3332 - val_RMSLE: 0.3332\n",
      "Epoch 91/200\n",
      "244/244 [==============================] - 11s 45ms/step - loss: 0.2227 - RMSLE: 0.2225 - val_loss: 0.3339 - val_RMSLE: 0.3338\n",
      "Epoch 92/200\n",
      "244/244 [==============================] - 8s 34ms/step - loss: 0.2244 - RMSLE: 0.2243 - val_loss: 0.3266 - val_RMSLE: 0.3266\n",
      "Epoch 93/200\n",
      "244/244 [==============================] - 8s 33ms/step - loss: 0.2195 - RMSLE: 0.2193 - val_loss: 0.3448 - val_RMSLE: 0.3448\n",
      "Epoch 94/200\n",
      "244/244 [==============================] - 7s 29ms/step - loss: 0.2263 - RMSLE: 0.2265 - val_loss: 0.3504 - val_RMSLE: 0.3502\n",
      "Epoch 95/200\n",
      "244/244 [==============================] - 8s 33ms/step - loss: 0.2243 - RMSLE: 0.2243 - val_loss: 0.3438 - val_RMSLE: 0.3437\n",
      "Epoch 96/200\n",
      "244/244 [==============================] - 8s 35ms/step - loss: 0.2237 - RMSLE: 0.2240 - val_loss: 0.3339 - val_RMSLE: 0.3338\n",
      "Epoch 97/200\n",
      "244/244 [==============================] - 8s 33ms/step - loss: 0.2168 - RMSLE: 0.2168 - val_loss: 0.3501 - val_RMSLE: 0.3500\n",
      "Epoch 98/200\n",
      "244/244 [==============================] - 9s 36ms/step - loss: 0.2208 - RMSLE: 0.2206 - val_loss: 0.3299 - val_RMSLE: 0.3297\n",
      "Epoch 99/200\n",
      "244/244 [==============================] - 8s 32ms/step - loss: 0.2257 - RMSLE: 0.2260 - val_loss: 0.3451 - val_RMSLE: 0.3449\n",
      "Epoch 100/200\n",
      "244/244 [==============================] - 7s 28ms/step - loss: 0.2183 - RMSLE: 0.2181 - val_loss: 0.3379 - val_RMSLE: 0.3379\n",
      "Epoch 101/200\n",
      "244/244 [==============================] - 8s 33ms/step - loss: 0.2193 - RMSLE: 0.2192 - val_loss: 0.3349 - val_RMSLE: 0.3348\n",
      "Epoch 102/200\n",
      "244/244 [==============================] - 8s 34ms/step - loss: 0.2150 - RMSLE: 0.2155 - val_loss: 0.3364 - val_RMSLE: 0.3364\n",
      "Epoch 103/200\n",
      "244/244 [==============================] - 8s 32ms/step - loss: 0.2173 - RMSLE: 0.2173 - val_loss: 0.3313 - val_RMSLE: 0.3312\n",
      "Epoch 104/200\n",
      "244/244 [==============================] - 9s 36ms/step - loss: 0.2134 - RMSLE: 0.2136 - val_loss: 0.3372 - val_RMSLE: 0.3371\n",
      "Epoch 105/200\n",
      "244/244 [==============================] - 8s 31ms/step - loss: 0.2125 - RMSLE: 0.2126 - val_loss: 0.3437 - val_RMSLE: 0.3437\n",
      "Epoch 106/200\n",
      "244/244 [==============================] - 8s 32ms/step - loss: 0.2084 - RMSLE: 0.2083 - val_loss: 0.3347 - val_RMSLE: 0.3345\n",
      "Epoch 107/200\n",
      "244/244 [==============================] - 8s 34ms/step - loss: 0.2137 - RMSLE: 0.2137 - val_loss: 0.3348 - val_RMSLE: 0.3346\n",
      "Epoch 108/200\n",
      "244/244 [==============================] - 8s 33ms/step - loss: 0.2097 - RMSLE: 0.2094 - val_loss: 0.3317 - val_RMSLE: 0.3316\n"
     ]
    }
   ],
   "source": [
    "#Fit the model.\n",
    "X_train = tf.convert_to_tensor(X_train,dtype=tf.float64)\n",
    "y_train = tf.convert_to_tensor(y_train,dtype=tf.float64)\n",
    "history = NN_model.fit(X_train, y_train, epochs=200, batch_size=32, validation_split = 0.2, callbacks=callbacks_list)"
   ]
  },
  {
   "cell_type": "code",
   "execution_count": 17,
   "metadata": {},
   "outputs": [
    {
     "data": {
      "image/png": "[encoded data removed]",
      "text/plain": [
       "<Figure size 432x288 with 1 Axes>"
      ]
     },
     "metadata": {
      "needs_background": "light"
     },
     "output_type": "display_data"
    }
   ],
   "source": [
    "# summarize history for loss\n",
    "plt.plot(history.history['loss'])\n",
    "plt.plot(history.history['val_loss'])\n",
    "plt.title('model loss')\n",
    "plt.ylabel('loss')\n",
    "plt.xlabel('epoch')\n",
    "plt.legend(['training loss', 'test loss'], loc='upper left')\n",
    "plt.show()"
   ]
  },
  {
   "cell_type": "code",
   "execution_count": 18,
   "metadata": {},
   "outputs": [
    {
     "name": "stderr",
     "output_type": "stream",
     "text": [
      "C:\\Users\\zisis\\AppData\\Roaming\\Python\\Python39\\site-packages\\tensorflow\\python\\data\\ops\\dataset_ops.py:3703: UserWarning: Even though the `tf.config.experimental_run_functions_eagerly` option is set, this option does not apply to tf.data functions. To force eager execution of tf.data functions, please use `tf.data.experimental.enable.debug_mode()`.\n",
      "  warnings.warn(\n",
      "C:\\Users\\zisis\\AppData\\Roaming\\Python\\Python39\\site-packages\\tensorflow\\python\\data\\ops\\dataset_ops.py:3703: UserWarning: Even though the `tf.config.experimental_run_functions_eagerly` option is set, this option does not apply to tf.data functions. To force eager execution of tf.data functions, please use `tf.data.experimental.enable.debug_mode()`.\n",
      "  warnings.warn(\n",
      "C:\\Users\\zisis\\AppData\\Roaming\\Python\\Python39\\site-packages\\tensorflow\\python\\data\\ops\\dataset_ops.py:3703: UserWarning: Even though the `tf.config.experimental_run_functions_eagerly` option is set, this option does not apply to tf.data functions. To force eager execution of tf.data functions, please use `tf.data.experimental.enable.debug_mode()`.\n",
      "  warnings.warn(\n",
      "C:\\Users\\zisis\\AppData\\Roaming\\Python\\Python39\\site-packages\\tensorflow\\python\\data\\ops\\dataset_ops.py:3703: UserWarning: Even though the `tf.config.experimental_run_functions_eagerly` option is set, this option does not apply to tf.data functions. To force eager execution of tf.data functions, please use `tf.data.experimental.enable.debug_mode()`.\n",
      "  warnings.warn(\n",
      "C:\\Users\\zisis\\AppData\\Roaming\\Python\\Python39\\site-packages\\tensorflow\\python\\data\\ops\\dataset_ops.py:3703: UserWarning: Even though the `tf.config.experimental_run_functions_eagerly` option is set, this option does not apply to tf.data functions. To force eager execution of tf.data functions, please use `tf.data.experimental.enable.debug_mode()`.\n",
      "  warnings.warn(\n",
      "C:\\Users\\zisis\\AppData\\Roaming\\Python\\Python39\\site-packages\\tensorflow\\python\\data\\ops\\dataset_ops.py:3703: UserWarning: Even though the `tf.config.experimental_run_functions_eagerly` option is set, this option does not apply to tf.data functions. To force eager execution of tf.data functions, please use `tf.data.experimental.enable.debug_mode()`.\n",
      "  warnings.warn(\n",
      "C:\\Users\\zisis\\AppData\\Roaming\\Python\\Python39\\site-packages\\tensorflow\\python\\data\\ops\\dataset_ops.py:3703: UserWarning: Even though the `tf.config.experimental_run_functions_eagerly` option is set, this option does not apply to tf.data functions. To force eager execution of tf.data functions, please use `tf.data.experimental.enable.debug_mode()`.\n",
      "  warnings.warn(\n",
      "C:\\Users\\zisis\\AppData\\Roaming\\Python\\Python39\\site-packages\\tensorflow\\python\\data\\ops\\dataset_ops.py:3703: UserWarning: Even though the `tf.config.experimental_run_functions_eagerly` option is set, this option does not apply to tf.data functions. To force eager execution of tf.data functions, please use `tf.data.experimental.enable.debug_mode()`.\n",
      "  warnings.warn(\n",
      "C:\\Users\\zisis\\AppData\\Roaming\\Python\\Python39\\site-packages\\tensorflow\\python\\data\\ops\\dataset_ops.py:3703: UserWarning: Even though the `tf.config.experimental_run_functions_eagerly` option is set, this option does not apply to tf.data functions. To force eager execution of tf.data functions, please use `tf.data.experimental.enable.debug_mode()`.\n",
      "  warnings.warn(\n",
      "C:\\Users\\zisis\\AppData\\Roaming\\Python\\Python39\\site-packages\\tensorflow\\python\\data\\ops\\dataset_ops.py:3703: UserWarning: Even though the `tf.config.experimental_run_functions_eagerly` option is set, this option does not apply to tf.data functions. To force eager execution of tf.data functions, please use `tf.data.experimental.enable.debug_mode()`.\n",
      "  warnings.warn(\n",
      "C:\\Users\\zisis\\AppData\\Roaming\\Python\\Python39\\site-packages\\tensorflow\\python\\data\\ops\\dataset_ops.py:3703: UserWarning: Even though the `tf.config.experimental_run_functions_eagerly` option is set, this option does not apply to tf.data functions. To force eager execution of tf.data functions, please use `tf.data.experimental.enable.debug_mode()`.\n",
      "  warnings.warn(\n",
      "C:\\Users\\zisis\\AppData\\Roaming\\Python\\Python39\\site-packages\\tensorflow\\python\\data\\ops\\dataset_ops.py:3703: UserWarning: Even though the `tf.config.experimental_run_functions_eagerly` option is set, this option does not apply to tf.data functions. To force eager execution of tf.data functions, please use `tf.data.experimental.enable.debug_mode()`.\n",
      "  warnings.warn(\n",
      "C:\\Users\\zisis\\AppData\\Roaming\\Python\\Python39\\site-packages\\tensorflow\\python\\data\\ops\\dataset_ops.py:3703: UserWarning: Even though the `tf.config.experimental_run_functions_eagerly` option is set, this option does not apply to tf.data functions. To force eager execution of tf.data functions, please use `tf.data.experimental.enable.debug_mode()`.\n",
      "  warnings.warn(\n",
      "C:\\Users\\zisis\\AppData\\Roaming\\Python\\Python39\\site-packages\\tensorflow\\python\\data\\ops\\dataset_ops.py:3703: UserWarning: Even though the `tf.config.experimental_run_functions_eagerly` option is set, this option does not apply to tf.data functions. To force eager execution of tf.data functions, please use `tf.data.experimental.enable.debug_mode()`.\n",
      "  warnings.warn(\n",
      "C:\\Users\\zisis\\AppData\\Roaming\\Python\\Python39\\site-packages\\tensorflow\\python\\data\\ops\\dataset_ops.py:3703: UserWarning: Even though the `tf.config.experimental_run_functions_eagerly` option is set, this option does not apply to tf.data functions. To force eager execution of tf.data functions, please use `tf.data.experimental.enable.debug_mode()`.\n",
      "  warnings.warn(\n",
      "C:\\Users\\zisis\\AppData\\Roaming\\Python\\Python39\\site-packages\\tensorflow\\python\\data\\ops\\dataset_ops.py:3703: UserWarning: Even though the `tf.config.experimental_run_functions_eagerly` option is set, this option does not apply to tf.data functions. To force eager execution of tf.data functions, please use `tf.data.experimental.enable.debug_mode()`.\n",
      "  warnings.warn(\n",
      "C:\\Users\\zisis\\AppData\\Roaming\\Python\\Python39\\site-packages\\tensorflow\\python\\data\\ops\\dataset_ops.py:3703: UserWarning: Even though the `tf.config.experimental_run_functions_eagerly` option is set, this option does not apply to tf.data functions. To force eager execution of tf.data functions, please use `tf.data.experimental.enable.debug_mode()`.\n",
      "  warnings.warn(\n",
      "C:\\Users\\zisis\\AppData\\Roaming\\Python\\Python39\\site-packages\\tensorflow\\python\\data\\ops\\dataset_ops.py:3703: UserWarning: Even though the `tf.config.experimental_run_functions_eagerly` option is set, this option does not apply to tf.data functions. To force eager execution of tf.data functions, please use `tf.data.experimental.enable.debug_mode()`.\n",
      "  warnings.warn(\n",
      "C:\\Users\\zisis\\AppData\\Roaming\\Python\\Python39\\site-packages\\tensorflow\\python\\data\\ops\\dataset_ops.py:3703: UserWarning: Even though the `tf.config.experimental_run_functions_eagerly` option is set, this option does not apply to tf.data functions. To force eager execution of tf.data functions, please use `tf.data.experimental.enable.debug_mode()`.\n",
      "  warnings.warn(\n",
      "C:\\Users\\zisis\\AppData\\Roaming\\Python\\Python39\\site-packages\\tensorflow\\python\\data\\ops\\dataset_ops.py:3703: UserWarning: Even though the `tf.config.experimental_run_functions_eagerly` option is set, this option does not apply to tf.data functions. To force eager execution of tf.data functions, please use `tf.data.experimental.enable.debug_mode()`.\n",
      "  warnings.warn(\n",
      "C:\\Users\\zisis\\AppData\\Roaming\\Python\\Python39\\site-packages\\tensorflow\\python\\data\\ops\\dataset_ops.py:3703: UserWarning: Even though the `tf.config.experimental_run_functions_eagerly` option is set, this option does not apply to tf.data functions. To force eager execution of tf.data functions, please use `tf.data.experimental.enable.debug_mode()`.\n",
      "  warnings.warn(\n",
      "C:\\Users\\zisis\\AppData\\Roaming\\Python\\Python39\\site-packages\\tensorflow\\python\\data\\ops\\dataset_ops.py:3703: UserWarning: Even though the `tf.config.experimental_run_functions_eagerly` option is set, this option does not apply to tf.data functions. To force eager execution of tf.data functions, please use `tf.data.experimental.enable.debug_mode()`.\n",
      "  warnings.warn(\n",
      "C:\\Users\\zisis\\AppData\\Roaming\\Python\\Python39\\site-packages\\tensorflow\\python\\data\\ops\\dataset_ops.py:3703: UserWarning: Even though the `tf.config.experimental_run_functions_eagerly` option is set, this option does not apply to tf.data functions. To force eager execution of tf.data functions, please use `tf.data.experimental.enable.debug_mode()`.\n",
      "  warnings.warn(\n"
     ]
    },
    {
     "name": "stderr",
     "output_type": "stream",
     "text": [
      "C:\\Users\\zisis\\AppData\\Roaming\\Python\\Python39\\site-packages\\tensorflow\\python\\data\\ops\\dataset_ops.py:3703: UserWarning: Even though the `tf.config.experimental_run_functions_eagerly` option is set, this option does not apply to tf.data functions. To force eager execution of tf.data functions, please use `tf.data.experimental.enable.debug_mode()`.\n",
      "  warnings.warn(\n",
      "C:\\Users\\zisis\\AppData\\Roaming\\Python\\Python39\\site-packages\\tensorflow\\python\\data\\ops\\dataset_ops.py:3703: UserWarning: Even though the `tf.config.experimental_run_functions_eagerly` option is set, this option does not apply to tf.data functions. To force eager execution of tf.data functions, please use `tf.data.experimental.enable.debug_mode()`.\n",
      "  warnings.warn(\n",
      "C:\\Users\\zisis\\AppData\\Roaming\\Python\\Python39\\site-packages\\tensorflow\\python\\data\\ops\\dataset_ops.py:3703: UserWarning: Even though the `tf.config.experimental_run_functions_eagerly` option is set, this option does not apply to tf.data functions. To force eager execution of tf.data functions, please use `tf.data.experimental.enable.debug_mode()`.\n",
      "  warnings.warn(\n",
      "C:\\Users\\zisis\\AppData\\Roaming\\Python\\Python39\\site-packages\\tensorflow\\python\\data\\ops\\dataset_ops.py:3703: UserWarning: Even though the `tf.config.experimental_run_functions_eagerly` option is set, this option does not apply to tf.data functions. To force eager execution of tf.data functions, please use `tf.data.experimental.enable.debug_mode()`.\n",
      "  warnings.warn(\n",
      "C:\\Users\\zisis\\AppData\\Roaming\\Python\\Python39\\site-packages\\tensorflow\\python\\data\\ops\\dataset_ops.py:3703: UserWarning: Even though the `tf.config.experimental_run_functions_eagerly` option is set, this option does not apply to tf.data functions. To force eager execution of tf.data functions, please use `tf.data.experimental.enable.debug_mode()`.\n",
      "  warnings.warn(\n",
      "C:\\Users\\zisis\\AppData\\Roaming\\Python\\Python39\\site-packages\\tensorflow\\python\\data\\ops\\dataset_ops.py:3703: UserWarning: Even though the `tf.config.experimental_run_functions_eagerly` option is set, this option does not apply to tf.data functions. To force eager execution of tf.data functions, please use `tf.data.experimental.enable.debug_mode()`.\n",
      "  warnings.warn(\n",
      "C:\\Users\\zisis\\AppData\\Roaming\\Python\\Python39\\site-packages\\tensorflow\\python\\data\\ops\\dataset_ops.py:3703: UserWarning: Even though the `tf.config.experimental_run_functions_eagerly` option is set, this option does not apply to tf.data functions. To force eager execution of tf.data functions, please use `tf.data.experimental.enable.debug_mode()`.\n",
      "  warnings.warn(\n",
      "C:\\Users\\zisis\\AppData\\Roaming\\Python\\Python39\\site-packages\\tensorflow\\python\\data\\ops\\dataset_ops.py:3703: UserWarning: Even though the `tf.config.experimental_run_functions_eagerly` option is set, this option does not apply to tf.data functions. To force eager execution of tf.data functions, please use `tf.data.experimental.enable.debug_mode()`.\n",
      "  warnings.warn(\n",
      "C:\\Users\\zisis\\AppData\\Roaming\\Python\\Python39\\site-packages\\tensorflow\\python\\data\\ops\\dataset_ops.py:3703: UserWarning: Even though the `tf.config.experimental_run_functions_eagerly` option is set, this option does not apply to tf.data functions. To force eager execution of tf.data functions, please use `tf.data.experimental.enable.debug_mode()`.\n",
      "  warnings.warn(\n",
      "C:\\Users\\zisis\\AppData\\Roaming\\Python\\Python39\\site-packages\\tensorflow\\python\\data\\ops\\dataset_ops.py:3703: UserWarning: Even though the `tf.config.experimental_run_functions_eagerly` option is set, this option does not apply to tf.data functions. To force eager execution of tf.data functions, please use `tf.data.experimental.enable.debug_mode()`.\n",
      "  warnings.warn(\n",
      "C:\\Users\\zisis\\AppData\\Roaming\\Python\\Python39\\site-packages\\tensorflow\\python\\data\\ops\\dataset_ops.py:3703: UserWarning: Even though the `tf.config.experimental_run_functions_eagerly` option is set, this option does not apply to tf.data functions. To force eager execution of tf.data functions, please use `tf.data.experimental.enable.debug_mode()`.\n",
      "  warnings.warn(\n",
      "C:\\Users\\zisis\\AppData\\Roaming\\Python\\Python39\\site-packages\\tensorflow\\python\\data\\ops\\dataset_ops.py:3703: UserWarning: Even though the `tf.config.experimental_run_functions_eagerly` option is set, this option does not apply to tf.data functions. To force eager execution of tf.data functions, please use `tf.data.experimental.enable.debug_mode()`.\n",
      "  warnings.warn(\n",
      "C:\\Users\\zisis\\AppData\\Roaming\\Python\\Python39\\site-packages\\tensorflow\\python\\data\\ops\\dataset_ops.py:3703: UserWarning: Even though the `tf.config.experimental_run_functions_eagerly` option is set, this option does not apply to tf.data functions. To force eager execution of tf.data functions, please use `tf.data.experimental.enable.debug_mode()`.\n",
      "  warnings.warn(\n",
      "C:\\Users\\zisis\\AppData\\Roaming\\Python\\Python39\\site-packages\\tensorflow\\python\\data\\ops\\dataset_ops.py:3703: UserWarning: Even though the `tf.config.experimental_run_functions_eagerly` option is set, this option does not apply to tf.data functions. To force eager execution of tf.data functions, please use `tf.data.experimental.enable.debug_mode()`.\n",
      "  warnings.warn(\n",
      "C:\\Users\\zisis\\AppData\\Roaming\\Python\\Python39\\site-packages\\tensorflow\\python\\data\\ops\\dataset_ops.py:3703: UserWarning: Even though the `tf.config.experimental_run_functions_eagerly` option is set, this option does not apply to tf.data functions. To force eager execution of tf.data functions, please use `tf.data.experimental.enable.debug_mode()`.\n",
      "  warnings.warn(\n",
      "C:\\Users\\zisis\\AppData\\Roaming\\Python\\Python39\\site-packages\\tensorflow\\python\\data\\ops\\dataset_ops.py:3703: UserWarning: Even though the `tf.config.experimental_run_functions_eagerly` option is set, this option does not apply to tf.data functions. To force eager execution of tf.data functions, please use `tf.data.experimental.enable.debug_mode()`.\n",
      "  warnings.warn(\n"
     ]
    }
   ],
   "source": [
    "#Open and read Weights file.\n",
    "Weights=os.listdir(\"Weights\")\n",
    "\n",
    "#For min_bound until the last epoch compute RMSLE score for X_test\n",
    "min_bound=len(Weights)-20\n",
    "\n",
    "#Create numpy array to store epoch and RMSLE\n",
    "weights_final=np.zeros([len(Weights),2])\n",
    "\n",
    "#Compute and store poch and RMSLE\n",
    "for j in range(min_bound,len(Weights)):\n",
    "    weights_file = 'Weights/'+ Weights[j] #choose checkpoint \n",
    "    NN_model.load_weights(weights_file) #load it\n",
    "    NN_model.compile(loss=RMSLE, optimizer='adam', metrics=[RMSLE])\n",
    "    y_pred = NN_model.predict(X_test)\n",
    "    for i, _  in enumerate(y_pred):\n",
    "        if y_pred[i] < 0:\n",
    "            y_pred[i] = 0\n",
    "    weights_final[j][0]=j #Store epoch\n",
    "    weights_final[j][1]=np.sqrt(mean_squared_log_error(y_test, y_pred)) #Store Rmsle"
   ]
  },
  {
   "cell_type": "code",
   "execution_count": 19,
   "metadata": {},
   "outputs": [],
   "source": [
    "#Delete the row with zeros\n",
    "weights_final=np.delete(weights_final,range(0,min_bound), axis=0)\n",
    "\n",
    "#Sort by RMSLE\n",
    "weights_final=weights_final[weights_final[:,1].argsort()]"
   ]
  },
  {
   "cell_type": "code",
   "execution_count": 20,
   "metadata": {
    "scrolled": false
   },
   "outputs": [
    {
     "name": "stdout",
     "output_type": "stream",
     "text": [
      "91.0 RMSLE: 0.306015833072703\n",
      "95.0 RMSLE: 0.30673874696059256\n",
      "90.0 RMSLE: 0.30851921087878337\n",
      "107.0 RMSLE: 0.30943899832584476\n",
      "103.0 RMSLE: 0.31052233497643117\n",
      "105.0 RMSLE: 0.31082354985278193\n",
      "89.0 RMSLE: 0.3134942099345519\n",
      "100.0 RMSLE: 0.31413164073563454\n",
      "97.0 RMSLE: 0.3156135829841253\n",
      "99.0 RMSLE: 0.3164075961822907\n",
      "102.0 RMSLE: 0.3165049118095616\n",
      "94.0 RMSLE: 0.3170205311202556\n",
      "106.0 RMSLE: 0.31818377648420665\n",
      "101.0 RMSLE: 0.31983906915191274\n",
      "98.0 RMSLE: 0.3207523775244646\n",
      "88.0 RMSLE: 0.32238426274481685\n",
      "96.0 RMSLE: 0.32320078393710033\n",
      "104.0 RMSLE: 0.3253977736447699\n",
      "92.0 RMSLE: 0.3288702391020814\n",
      "93.0 RMSLE: 0.336105003117066\n"
     ]
    }
   ],
   "source": [
    "#Print results\n",
    "for j in range(0,len(weights_final)):\n",
    "    print(str(weights_final[j][0])+' RMSLE:', str(weights_final[j][1]))"
   ]
  },
  {
   "cell_type": "code",
   "execution_count": 21,
   "metadata": {},
   "outputs": [],
   "source": [
    "weights_file = 'Weights/'+ Weights[int(weights_final[0][0])] #Choose the best checkpoint \n",
    "NN_model.load_weights(weights_file) #Load it\n",
    "NN_model.compile(loss=RMSLE, optimizer='adam', metrics=[RMSLE]) #Compile it"
   ]
  },
  {
   "cell_type": "markdown",
   "metadata": {},
   "source": [
    "Moreover, we use ensembles in order to combine predictions from different models to generate a final prediction. So, we create some methods which facilitate the fuctionality of the ensembles. \n",
    "First, the method get_models() returns a list that contains the different models for use."
   ]
  },
  {
   "cell_type": "code",
   "execution_count": 22,
   "metadata": {},
   "outputs": [
    {
     "name": "stdout",
     "output_type": "stream",
     "text": [
      "Model: \"sequential_1\"\n",
      "_________________________________________________________________\n",
      "Layer (type)                 Output Shape              Param #   \n",
      "=================================================================\n",
      "dense_5 (Dense)              (None, 1024)              22528     \n",
      "_________________________________________________________________\n",
      "dense_6 (Dense)              (None, 256)               262400    \n",
      "_________________________________________________________________\n",
      "dense_7 (Dense)              (None, 1024)              263168    \n",
      "_________________________________________________________________\n",
      "dense_8 (Dense)              (None, 256)               262400    \n",
      "_________________________________________________________________\n",
      "dense_9 (Dense)              (None, 1)                 257       \n",
      "=================================================================\n",
      "Total params: 810,753\n",
      "Trainable params: 810,753\n",
      "Non-trainable params: 0\n",
      "_________________________________________________________________\n",
      "Models are ready...\n"
     ]
    }
   ],
   "source": [
    "def get_models():\n",
    "    \n",
    "    #generate base learners\n",
    "    \n",
    "    rfr = RandomForestRegressor(n_estimators=500)\n",
    "    rfr2 = RandomForestRegressor(n_estimators = 800)\n",
    "    rfr3 = RandomForestRegressor(n_estimators = 300)\n",
    "    etr = ExtraTreesRegressor(n_estimators=800)\n",
    "    etr2 = ExtraTreesRegressor(n_estimators = 600)\n",
    "    NN_model = Sequential()\n",
    "\n",
    "    # The Input Layer :\n",
    "    NN_model.add(Dense(1024, kernel_initializer='normal',input_dim = X.shape[1], activation='relu'))\n",
    "    # The Hidden Layers :\n",
    "    NN_model.add(Dense(256, kernel_initializer='normal',activation='relu'))\n",
    "    NN_model.add(Dense(1024, kernel_initializer='normal',activation='relu'))\n",
    "    NN_model.add(Dense(256, kernel_initializer='normal',activation='relu'))\n",
    "    # The Output Layer :\n",
    "    NN_model.add(Dense(1, kernel_initializer='normal',activation='linear'))\n",
    "    # Compile the network :\n",
    "    NN_model.compile(loss='mean_absolute_error', optimizer='adam', metrics=['mean_absolute_error'])\n",
    "    NN_model.summary()\n",
    " \n",
    "    models ={\n",
    "        'rfr':rfr,\n",
    "        'rfr2':rfr2,\n",
    "        'rfr3':rfr3,\n",
    "        'etr':etr,\n",
    "        'etr2':etr2,\n",
    "        'NN_model':NN_model\n",
    "    }\n",
    "    \n",
    "    return models\n",
    "\n",
    "models = get_models()\n",
    "print('Models are ready...')"
   ]
  },
  {
   "cell_type": "markdown",
   "metadata": {},
   "source": [
    "Then, train_predict() is used to fit each model with (X_train,y_train) and make predictions with X_test data. The predictions of every model are inserted at a numpy array (Predictions)."
   ]
  },
  {
   "cell_type": "code",
   "execution_count": 23,
   "metadata": {},
   "outputs": [
    {
     "name": "stdout",
     "output_type": "stream",
     "text": [
      "Fitting models\n",
      "rfr... done\n",
      "rfr2... done\n",
      "rfr3... done\n",
      "etr... done\n",
      "etr2... done\n",
      "NN_model... Epoch 1/150\n",
      "  3/122 [..............................] - ETA: 3s - loss: 183.9504 - mean_absolute_error: 183.9504"
     ]
    },
    {
     "name": "stderr",
     "output_type": "stream",
     "text": [
      "C:\\Users\\zisis\\AppData\\Roaming\\Python\\Python39\\site-packages\\tensorflow\\python\\data\\ops\\dataset_ops.py:3703: UserWarning: Even though the `tf.config.experimental_run_functions_eagerly` option is set, this option does not apply to tf.data functions. To force eager execution of tf.data functions, please use `tf.data.experimental.enable.debug_mode()`.\n",
      "  warnings.warn(\n"
     ]
    },
    {
     "name": "stdout",
     "output_type": "stream",
     "text": [
      "122/122 [==============================] - 4s 30ms/step - loss: 112.1150 - mean_absolute_error: 112.1150 - val_loss: 85.6463 - val_mean_absolute_error: 85.6463\n",
      "Epoch 2/150\n",
      "122/122 [==============================] - 4s 29ms/step - loss: 82.9814 - mean_absolute_error: 82.9814 - val_loss: 72.1503 - val_mean_absolute_error: 72.1503\n",
      "Epoch 3/150\n",
      "122/122 [==============================] - 3s 27ms/step - loss: 75.1982 - mean_absolute_error: 75.1982 - val_loss: 67.5479 - val_mean_absolute_error: 67.5479\n",
      "Epoch 4/150\n",
      "122/122 [==============================] - 3s 28ms/step - loss: 69.5602 - mean_absolute_error: 69.5602 - val_loss: 66.9039 - val_mean_absolute_error: 66.9039\n",
      "Epoch 5/150\n",
      "122/122 [==============================] - 3s 28ms/step - loss: 65.3315 - mean_absolute_error: 65.3315 - val_loss: 58.2897 - val_mean_absolute_error: 58.2897\n",
      "Epoch 6/150\n",
      "122/122 [==============================] - 4s 32ms/step - loss: 60.3020 - mean_absolute_error: 60.3020 - val_loss: 55.5147 - val_mean_absolute_error: 55.5147\n",
      "Epoch 7/150\n",
      "122/122 [==============================] - 4s 32ms/step - loss: 55.8659 - mean_absolute_error: 55.8659 - val_loss: 48.6778 - val_mean_absolute_error: 48.6778\n",
      "Epoch 8/150\n",
      "122/122 [==============================] - 4s 34ms/step - loss: 51.9532 - mean_absolute_error: 51.9532 - val_loss: 47.4364 - val_mean_absolute_error: 47.4364\n",
      "Epoch 9/150\n",
      "122/122 [==============================] - 4s 33ms/step - loss: 49.0001 - mean_absolute_error: 49.0001 - val_loss: 42.7369 - val_mean_absolute_error: 42.7369\n",
      "Epoch 10/150\n",
      "122/122 [==============================] - 4s 33ms/step - loss: 46.9572 - mean_absolute_error: 46.9572 - val_loss: 42.3219 - val_mean_absolute_error: 42.3219\n",
      "Epoch 11/150\n",
      "122/122 [==============================] - 4s 34ms/step - loss: 44.7882 - mean_absolute_error: 44.7882 - val_loss: 48.1280 - val_mean_absolute_error: 48.1280\n",
      "Epoch 12/150\n",
      "122/122 [==============================] - 4s 33ms/step - loss: 42.4394 - mean_absolute_error: 42.4394 - val_loss: 38.3830 - val_mean_absolute_error: 38.3830\n",
      "Epoch 13/150\n",
      "122/122 [==============================] - 4s 35ms/step - loss: 41.2380 - mean_absolute_error: 41.2380 - val_loss: 45.5497 - val_mean_absolute_error: 45.5497\n",
      "Epoch 14/150\n",
      "122/122 [==============================] - 4s 33ms/step - loss: 40.2390 - mean_absolute_error: 40.2390 - val_loss: 40.1240 - val_mean_absolute_error: 40.1240\n",
      "Epoch 15/150\n",
      "122/122 [==============================] - 4s 30ms/step - loss: 37.6676 - mean_absolute_error: 37.6676 - val_loss: 35.1138 - val_mean_absolute_error: 35.1138\n",
      "Epoch 16/150\n",
      "122/122 [==============================] - 3s 27ms/step - loss: 36.8429 - mean_absolute_error: 36.8429 - val_loss: 34.5455 - val_mean_absolute_error: 34.5455\n",
      "Epoch 17/150\n",
      "122/122 [==============================] - 4s 29ms/step - loss: 37.6546 - mean_absolute_error: 37.6546 - val_loss: 41.3806 - val_mean_absolute_error: 41.3806\n",
      "Epoch 18/150\n",
      "122/122 [==============================] - 4s 34ms/step - loss: 36.7638 - mean_absolute_error: 36.7638 - val_loss: 33.9164 - val_mean_absolute_error: 33.9164\n",
      "Epoch 19/150\n",
      "122/122 [==============================] - 4s 33ms/step - loss: 35.0044 - mean_absolute_error: 35.0044 - val_loss: 37.9930 - val_mean_absolute_error: 37.9930\n",
      "Epoch 20/150\n",
      "122/122 [==============================] - 4s 33ms/step - loss: 34.7928 - mean_absolute_error: 34.7928 - val_loss: 37.7408 - val_mean_absolute_error: 37.7408\n",
      "Epoch 21/150\n",
      "122/122 [==============================] - 4s 33ms/step - loss: 35.0981 - mean_absolute_error: 35.0981 - val_loss: 33.9518 - val_mean_absolute_error: 33.9518\n",
      "Epoch 22/150\n",
      "122/122 [==============================] - 4s 33ms/step - loss: 34.4496 - mean_absolute_error: 34.4496 - val_loss: 37.8630 - val_mean_absolute_error: 37.8630\n",
      "Epoch 23/150\n",
      "122/122 [==============================] - 4s 33ms/step - loss: 33.2285 - mean_absolute_error: 33.2285 - val_loss: 35.9428 - val_mean_absolute_error: 35.9428\n",
      "Epoch 24/150\n",
      "122/122 [==============================] - 5s 38ms/step - loss: 33.6869 - mean_absolute_error: 33.6869 - val_loss: 38.7363 - val_mean_absolute_error: 38.7363\n",
      "Epoch 25/150\n",
      "122/122 [==============================] - 4s 33ms/step - loss: 35.1330 - mean_absolute_error: 35.1330 - val_loss: 33.7412 - val_mean_absolute_error: 33.7412\n",
      "Epoch 26/150\n",
      "122/122 [==============================] - 3s 28ms/step - loss: 32.1897 - mean_absolute_error: 32.1897 - val_loss: 31.9521 - val_mean_absolute_error: 31.9521\n",
      "Epoch 27/150\n",
      "122/122 [==============================] - 3s 28ms/step - loss: 31.0932 - mean_absolute_error: 31.0932 - val_loss: 29.8948 - val_mean_absolute_error: 29.8948\n",
      "Epoch 28/150\n",
      "122/122 [==============================] - 4s 30ms/step - loss: 33.1402 - mean_absolute_error: 33.1402 - val_loss: 33.6558 - val_mean_absolute_error: 33.6558\n",
      "Epoch 29/150\n",
      "122/122 [==============================] - 4s 32ms/step - loss: 31.1955 - mean_absolute_error: 31.1955 - val_loss: 34.2874 - val_mean_absolute_error: 34.2874\n",
      "Epoch 30/150\n",
      "122/122 [==============================] - 4s 33ms/step - loss: 31.1591 - mean_absolute_error: 31.1591 - val_loss: 30.2732 - val_mean_absolute_error: 30.2732\n",
      "Epoch 31/150\n",
      "122/122 [==============================] - 5s 40ms/step - loss: 30.3769 - mean_absolute_error: 30.3769 - val_loss: 31.8971 - val_mean_absolute_error: 31.8971\n",
      "Epoch 32/150\n",
      "122/122 [==============================] - 5s 42ms/step - loss: 31.2921 - mean_absolute_error: 31.2921 - val_loss: 30.9308 - val_mean_absolute_error: 30.9308\n",
      "Epoch 33/150\n",
      "122/122 [==============================] - 4s 29ms/step - loss: 31.3352 - mean_absolute_error: 31.3352 - val_loss: 30.5003 - val_mean_absolute_error: 30.5003\n",
      "Epoch 34/150\n",
      "122/122 [==============================] - 4s 34ms/step - loss: 30.7465 - mean_absolute_error: 30.7465 - val_loss: 31.6969 - val_mean_absolute_error: 31.6969\n",
      "Epoch 35/150\n",
      "122/122 [==============================] - 5s 37ms/step - loss: 29.0855 - mean_absolute_error: 29.0855 - val_loss: 30.5441 - val_mean_absolute_error: 30.5441\n",
      "Epoch 36/150\n",
      "122/122 [==============================] - 4s 35ms/step - loss: 30.2610 - mean_absolute_error: 30.2610 - val_loss: 32.1613 - val_mean_absolute_error: 32.1613\n",
      "Epoch 37/150\n",
      "122/122 [==============================] - 5s 40ms/step - loss: 28.8527 - mean_absolute_error: 28.8527 - val_loss: 29.4490 - val_mean_absolute_error: 29.4490\n",
      "Epoch 38/150\n",
      "122/122 [==============================] - 4s 33ms/step - loss: 29.1486 - mean_absolute_error: 29.1486 - val_loss: 31.0893 - val_mean_absolute_error: 31.0893\n",
      "Epoch 39/150\n",
      "122/122 [==============================] - 4s 35ms/step - loss: 29.5700 - mean_absolute_error: 29.5700 - val_loss: 29.5890 - val_mean_absolute_error: 29.5890\n",
      "Epoch 40/150\n",
      "122/122 [==============================] - 4s 36ms/step - loss: 29.0914 - mean_absolute_error: 29.0914 - val_loss: 29.1743 - val_mean_absolute_error: 29.1743\n",
      "Epoch 41/150\n",
      "122/122 [==============================] - 4s 36ms/step - loss: 28.4599 - mean_absolute_error: 28.4599 - val_loss: 29.8957 - val_mean_absolute_error: 29.8957\n",
      "Epoch 42/150\n",
      "122/122 [==============================] - 4s 35ms/step - loss: 28.2708 - mean_absolute_error: 28.2708 - val_loss: 28.4647 - val_mean_absolute_error: 28.4647\n",
      "Epoch 43/150\n",
      "122/122 [==============================] - 4s 36ms/step - loss: 28.0398 - mean_absolute_error: 28.0398 - val_loss: 27.8572 - val_mean_absolute_error: 27.8572\n",
      "Epoch 44/150\n",
      "122/122 [==============================] - 4s 36ms/step - loss: 27.1790 - mean_absolute_error: 27.1790 - val_loss: 29.2352 - val_mean_absolute_error: 29.2352\n",
      "Epoch 45/150\n",
      "122/122 [==============================] - 4s 36ms/step - loss: 27.6673 - mean_absolute_error: 27.6673 - val_loss: 29.7996 - val_mean_absolute_error: 29.7996\n",
      "Epoch 46/150\n",
      "122/122 [==============================] - 4s 36ms/step - loss: 27.4641 - mean_absolute_error: 27.4641 - val_loss: 29.3904 - val_mean_absolute_error: 29.3904\n",
      "Epoch 47/150\n",
      "122/122 [==============================] - 4s 35ms/step - loss: 27.8132 - mean_absolute_error: 27.8132 - val_loss: 28.3451 - val_mean_absolute_error: 28.3451\n",
      "Epoch 48/150\n",
      "122/122 [==============================] - 4s 30ms/step - loss: 26.8597 - mean_absolute_error: 26.8597 - val_loss: 30.7980 - val_mean_absolute_error: 30.7980\n",
      "Epoch 49/150\n"
     ]
    },
    {
     "name": "stdout",
     "output_type": "stream",
     "text": [
      "122/122 [==============================] - 4s 29ms/step - loss: 27.9760 - mean_absolute_error: 27.9760 - val_loss: 27.7401 - val_mean_absolute_error: 27.7401\n",
      "Epoch 50/150\n",
      "122/122 [==============================] - 4s 32ms/step - loss: 26.4235 - mean_absolute_error: 26.4235 - val_loss: 32.3015 - val_mean_absolute_error: 32.3015\n",
      "Epoch 51/150\n",
      "122/122 [==============================] - 4s 35ms/step - loss: 27.0712 - mean_absolute_error: 27.0712 - val_loss: 28.7321 - val_mean_absolute_error: 28.7321\n",
      "Epoch 52/150\n",
      "122/122 [==============================] - 4s 33ms/step - loss: 26.1420 - mean_absolute_error: 26.1420 - val_loss: 29.0013 - val_mean_absolute_error: 29.0013\n",
      "Epoch 53/150\n",
      "122/122 [==============================] - 4s 33ms/step - loss: 26.3986 - mean_absolute_error: 26.3986 - val_loss: 28.6281 - val_mean_absolute_error: 28.6281\n",
      "Epoch 54/150\n",
      "122/122 [==============================] - 4s 33ms/step - loss: 25.9279 - mean_absolute_error: 25.9279 - val_loss: 29.9290 - val_mean_absolute_error: 29.9290\n",
      "Epoch 55/150\n",
      "122/122 [==============================] - 4s 33ms/step - loss: 26.4748 - mean_absolute_error: 26.4748 - val_loss: 29.4728 - val_mean_absolute_error: 29.4728\n",
      "Epoch 56/150\n",
      "122/122 [==============================] - 4s 32ms/step - loss: 26.3383 - mean_absolute_error: 26.3383 - val_loss: 27.1674 - val_mean_absolute_error: 27.1674\n",
      "Epoch 57/150\n",
      "122/122 [==============================] - 4s 33ms/step - loss: 26.9940 - mean_absolute_error: 26.9940 - val_loss: 27.2448 - val_mean_absolute_error: 27.2448\n",
      "Epoch 58/150\n",
      "122/122 [==============================] - 4s 36ms/step - loss: 25.2557 - mean_absolute_error: 25.2557 - val_loss: 30.6388 - val_mean_absolute_error: 30.6388\n",
      "Epoch 59/150\n",
      "122/122 [==============================] - 4s 30ms/step - loss: 25.6065 - mean_absolute_error: 25.6065 - val_loss: 29.3606 - val_mean_absolute_error: 29.3606\n",
      "Epoch 60/150\n",
      "122/122 [==============================] - 4s 30ms/step - loss: 25.3327 - mean_absolute_error: 25.3327 - val_loss: 26.4031 - val_mean_absolute_error: 26.4031\n",
      "Epoch 61/150\n",
      "122/122 [==============================] - 4s 34ms/step - loss: 25.1843 - mean_absolute_error: 25.1843 - val_loss: 28.3552 - val_mean_absolute_error: 28.3552\n",
      "Epoch 62/150\n",
      "122/122 [==============================] - 4s 35ms/step - loss: 25.8632 - mean_absolute_error: 25.8632 - val_loss: 33.0659 - val_mean_absolute_error: 33.0659\n",
      "Epoch 63/150\n",
      "122/122 [==============================] - 4s 35ms/step - loss: 25.8699 - mean_absolute_error: 25.8699 - val_loss: 26.6523 - val_mean_absolute_error: 26.6523\n",
      "Epoch 64/150\n",
      "122/122 [==============================] - 4s 35ms/step - loss: 24.5326 - mean_absolute_error: 24.5326 - val_loss: 27.5406 - val_mean_absolute_error: 27.5406\n",
      "Epoch 65/150\n",
      "122/122 [==============================] - 4s 35ms/step - loss: 25.5633 - mean_absolute_error: 25.5633 - val_loss: 28.6001 - val_mean_absolute_error: 28.6001\n",
      "Epoch 66/150\n",
      "122/122 [==============================] - 4s 34ms/step - loss: 24.6285 - mean_absolute_error: 24.6285 - val_loss: 28.1139 - val_mean_absolute_error: 28.1139\n",
      "Epoch 67/150\n",
      "122/122 [==============================] - 4s 30ms/step - loss: 25.5381 - mean_absolute_error: 25.5381 - val_loss: 27.3639 - val_mean_absolute_error: 27.3639\n",
      "Epoch 68/150\n",
      "122/122 [==============================] - 4s 30ms/step - loss: 25.6402 - mean_absolute_error: 25.6402 - val_loss: 29.7643 - val_mean_absolute_error: 29.7643\n",
      "Epoch 69/150\n",
      "122/122 [==============================] - 4s 36ms/step - loss: 25.5492 - mean_absolute_error: 25.5492 - val_loss: 27.7438 - val_mean_absolute_error: 27.7438\n",
      "Epoch 70/150\n",
      "122/122 [==============================] - 4s 36ms/step - loss: 24.1635 - mean_absolute_error: 24.1635 - val_loss: 30.8432 - val_mean_absolute_error: 30.8432\n",
      "Epoch 71/150\n",
      "122/122 [==============================] - 4s 35ms/step - loss: 24.1670 - mean_absolute_error: 24.1670 - val_loss: 27.1551 - val_mean_absolute_error: 27.1551\n",
      "Epoch 72/150\n",
      "122/122 [==============================] - 4s 35ms/step - loss: 24.4740 - mean_absolute_error: 24.4740 - val_loss: 30.5516 - val_mean_absolute_error: 30.5516\n",
      "Epoch 73/150\n",
      "122/122 [==============================] - 4s 35ms/step - loss: 24.4883 - mean_absolute_error: 24.4883 - val_loss: 27.9688 - val_mean_absolute_error: 27.9688\n",
      "Epoch 74/150\n",
      "122/122 [==============================] - 4s 35ms/step - loss: 24.6274 - mean_absolute_error: 24.6274 - val_loss: 30.4878 - val_mean_absolute_error: 30.4878\n",
      "Epoch 75/150\n",
      "122/122 [==============================] - 4s 35ms/step - loss: 24.2328 - mean_absolute_error: 24.2328 - val_loss: 27.9807 - val_mean_absolute_error: 27.9807\n",
      "Epoch 76/150\n",
      "122/122 [==============================] - 4s 35ms/step - loss: 26.7033 - mean_absolute_error: 26.7033 - val_loss: 29.6688 - val_mean_absolute_error: 29.6688\n",
      "Epoch 77/150\n",
      "122/122 [==============================] - 4s 31ms/step - loss: 25.0703 - mean_absolute_error: 25.0703 - val_loss: 27.3973 - val_mean_absolute_error: 27.3973\n",
      "Epoch 78/150\n",
      "122/122 [==============================] - 4s 34ms/step - loss: 23.6625 - mean_absolute_error: 23.6625 - val_loss: 28.0787 - val_mean_absolute_error: 28.0787\n",
      "Epoch 79/150\n",
      "122/122 [==============================] - 4s 36ms/step - loss: 24.7531 - mean_absolute_error: 24.7531 - val_loss: 27.3308 - val_mean_absolute_error: 27.3308\n",
      "Epoch 80/150\n",
      "122/122 [==============================] - 4s 35ms/step - loss: 23.7806 - mean_absolute_error: 23.7806 - val_loss: 26.3859 - val_mean_absolute_error: 26.3859\n",
      "Epoch 81/150\n",
      "122/122 [==============================] - 4s 36ms/step - loss: 23.7314 - mean_absolute_error: 23.7314 - val_loss: 26.5504 - val_mean_absolute_error: 26.5504\n",
      "Epoch 82/150\n",
      "122/122 [==============================] - 4s 35ms/step - loss: 24.1080 - mean_absolute_error: 24.1080 - val_loss: 28.0883 - val_mean_absolute_error: 28.0883\n",
      "Epoch 83/150\n",
      "122/122 [==============================] - 4s 34ms/step - loss: 25.0909 - mean_absolute_error: 25.0909 - val_loss: 26.5735 - val_mean_absolute_error: 26.5735\n",
      "Epoch 84/150\n",
      "122/122 [==============================] - 4s 31ms/step - loss: 23.1526 - mean_absolute_error: 23.1526 - val_loss: 28.8758 - val_mean_absolute_error: 28.8758\n",
      "Epoch 85/150\n",
      "122/122 [==============================] - 4s 30ms/step - loss: 23.6561 - mean_absolute_error: 23.6561 - val_loss: 27.9070 - val_mean_absolute_error: 27.9070\n",
      "Epoch 86/150\n",
      "122/122 [==============================] - 4s 30ms/step - loss: 23.8690 - mean_absolute_error: 23.8690 - val_loss: 28.7983 - val_mean_absolute_error: 28.7983\n",
      "Epoch 87/150\n",
      "122/122 [==============================] - 4s 31ms/step - loss: 23.5014 - mean_absolute_error: 23.5014 - val_loss: 28.2506 - val_mean_absolute_error: 28.2506\n",
      "Epoch 88/150\n",
      "122/122 [==============================] - 4s 31ms/step - loss: 22.5698 - mean_absolute_error: 22.5698 - val_loss: 27.7690 - val_mean_absolute_error: 27.7690\n",
      "Epoch 89/150\n",
      "122/122 [==============================] - 4s 36ms/step - loss: 23.2913 - mean_absolute_error: 23.2913 - val_loss: 28.1597 - val_mean_absolute_error: 28.1597\n",
      "Epoch 90/150\n",
      "122/122 [==============================] - 4s 35ms/step - loss: 25.0653 - mean_absolute_error: 25.0653 - val_loss: 29.3274 - val_mean_absolute_error: 29.3274\n",
      "Epoch 91/150\n",
      "122/122 [==============================] - 4s 35ms/step - loss: 23.5058 - mean_absolute_error: 23.5058 - val_loss: 26.8948 - val_mean_absolute_error: 26.8948\n",
      "Epoch 92/150\n",
      "122/122 [==============================] - 4s 36ms/step - loss: 24.2627 - mean_absolute_error: 24.2627 - val_loss: 27.1122 - val_mean_absolute_error: 27.1122\n",
      "Epoch 93/150\n",
      "122/122 [==============================] - 4s 35ms/step - loss: 21.9556 - mean_absolute_error: 21.9556 - val_loss: 27.5695 - val_mean_absolute_error: 27.5695\n",
      "Epoch 94/150\n",
      "122/122 [==============================] - 4s 35ms/step - loss: 22.8094 - mean_absolute_error: 22.8094 - val_loss: 27.0487 - val_mean_absolute_error: 27.0487\n",
      "Epoch 95/150\n",
      "122/122 [==============================] - 4s 36ms/step - loss: 22.4036 - mean_absolute_error: 22.4036 - val_loss: 27.4717 - val_mean_absolute_error: 27.4717\n",
      "Epoch 96/150\n",
      "122/122 [==============================] - 4s 36ms/step - loss: 22.7749 - mean_absolute_error: 22.7749 - val_loss: 26.5841 - val_mean_absolute_error: 26.5841\n"
     ]
    },
    {
     "name": "stdout",
     "output_type": "stream",
     "text": [
      "Epoch 97/150\n",
      "122/122 [==============================] - 4s 33ms/step - loss: 22.7839 - mean_absolute_error: 22.7839 - val_loss: 26.9417 - val_mean_absolute_error: 26.9417\n",
      "Epoch 98/150\n",
      "122/122 [==============================] - 4s 33ms/step - loss: 22.5569 - mean_absolute_error: 22.5569 - val_loss: 26.0672 - val_mean_absolute_error: 26.0672\n",
      "Epoch 99/150\n",
      "122/122 [==============================] - 4s 33ms/step - loss: 22.6427 - mean_absolute_error: 22.6427 - val_loss: 27.4039 - val_mean_absolute_error: 27.4039\n",
      "Epoch 100/150\n",
      "122/122 [==============================] - 4s 33ms/step - loss: 22.6796 - mean_absolute_error: 22.6796 - val_loss: 25.9188 - val_mean_absolute_error: 25.9188\n",
      "Epoch 101/150\n",
      "122/122 [==============================] - 4s 33ms/step - loss: 22.2145 - mean_absolute_error: 22.2145 - val_loss: 28.5808 - val_mean_absolute_error: 28.5808\n",
      "Epoch 102/150\n",
      "122/122 [==============================] - 4s 33ms/step - loss: 22.0820 - mean_absolute_error: 22.0820 - val_loss: 25.8051 - val_mean_absolute_error: 25.8051\n",
      "Epoch 103/150\n",
      "122/122 [==============================] - 4s 35ms/step - loss: 22.6838 - mean_absolute_error: 22.6838 - val_loss: 26.6644 - val_mean_absolute_error: 26.6644\n",
      "Epoch 104/150\n",
      "122/122 [==============================] - 4s 33ms/step - loss: 21.4525 - mean_absolute_error: 21.4525 - val_loss: 26.1879 - val_mean_absolute_error: 26.1879\n",
      "Epoch 105/150\n",
      "122/122 [==============================] - 4s 33ms/step - loss: 22.3436 - mean_absolute_error: 22.3436 - val_loss: 27.7240 - val_mean_absolute_error: 27.7240\n",
      "Epoch 106/150\n",
      "122/122 [==============================] - 4s 34ms/step - loss: 22.7826 - mean_absolute_error: 22.7826 - val_loss: 26.6752 - val_mean_absolute_error: 26.6752\n",
      "Epoch 107/150\n",
      "122/122 [==============================] - 4s 33ms/step - loss: 22.3997 - mean_absolute_error: 22.3997 - val_loss: 26.5128 - val_mean_absolute_error: 26.5128\n",
      "Epoch 108/150\n",
      "122/122 [==============================] - 4s 33ms/step - loss: 22.0204 - mean_absolute_error: 22.0204 - val_loss: 26.3455 - val_mean_absolute_error: 26.3455\n",
      "Epoch 109/150\n",
      "122/122 [==============================] - 4s 33ms/step - loss: 21.4672 - mean_absolute_error: 21.4672 - val_loss: 26.1065 - val_mean_absolute_error: 26.1065\n",
      "Epoch 110/150\n",
      "122/122 [==============================] - 4s 35ms/step - loss: 21.0465 - mean_absolute_error: 21.0465 - val_loss: 25.4949 - val_mean_absolute_error: 25.4949\n",
      "Epoch 111/150\n",
      "122/122 [==============================] - 4s 31ms/step - loss: 21.1326 - mean_absolute_error: 21.1326 - val_loss: 25.5644 - val_mean_absolute_error: 25.5644\n",
      "Epoch 112/150\n",
      "122/122 [==============================] - 4s 30ms/step - loss: 21.1903 - mean_absolute_error: 21.1903 - val_loss: 26.1486 - val_mean_absolute_error: 26.1486\n",
      "Epoch 113/150\n",
      "122/122 [==============================] - 4s 30ms/step - loss: 22.1689 - mean_absolute_error: 22.1689 - val_loss: 26.2696 - val_mean_absolute_error: 26.2696\n",
      "Epoch 114/150\n",
      "122/122 [==============================] - 4s 34ms/step - loss: 21.3257 - mean_absolute_error: 21.3257 - val_loss: 27.2479 - val_mean_absolute_error: 27.2479\n",
      "Epoch 115/150\n",
      "122/122 [==============================] - 4s 35ms/step - loss: 21.3975 - mean_absolute_error: 21.3975 - val_loss: 27.2239 - val_mean_absolute_error: 27.2239\n",
      "Epoch 116/150\n",
      "122/122 [==============================] - 4s 35ms/step - loss: 21.4302 - mean_absolute_error: 21.4302 - val_loss: 26.1774 - val_mean_absolute_error: 26.1774\n",
      "Epoch 117/150\n",
      "122/122 [==============================] - 4s 35ms/step - loss: 21.7476 - mean_absolute_error: 21.7476 - val_loss: 25.7310 - val_mean_absolute_error: 25.7310\n",
      "Epoch 118/150\n",
      "122/122 [==============================] - 4s 35ms/step - loss: 21.2477 - mean_absolute_error: 21.2477 - val_loss: 27.3812 - val_mean_absolute_error: 27.3812\n",
      "Epoch 119/150\n",
      "122/122 [==============================] - 4s 35ms/step - loss: 21.4169 - mean_absolute_error: 21.4169 - val_loss: 26.6798 - val_mean_absolute_error: 26.6798\n",
      "Epoch 120/150\n",
      "122/122 [==============================] - 4s 35ms/step - loss: 20.6484 - mean_absolute_error: 20.6484 - val_loss: 27.1917 - val_mean_absolute_error: 27.1917\n",
      "Epoch 121/150\n",
      "122/122 [==============================] - 4s 36ms/step - loss: 21.0700 - mean_absolute_error: 21.0700 - val_loss: 25.9373 - val_mean_absolute_error: 25.9373\n",
      "Epoch 122/150\n",
      "122/122 [==============================] - 4s 32ms/step - loss: 21.4470 - mean_absolute_error: 21.4470 - val_loss: 30.2546 - val_mean_absolute_error: 30.2546\n",
      "Epoch 123/150\n",
      "122/122 [==============================] - 4s 30ms/step - loss: 22.4736 - mean_absolute_error: 22.4736 - val_loss: 25.7850 - val_mean_absolute_error: 25.7850\n",
      "Epoch 124/150\n",
      "122/122 [==============================] - 5s 37ms/step - loss: 20.9176 - mean_absolute_error: 20.9176 - val_loss: 26.0922 - val_mean_absolute_error: 26.0922\n",
      "Epoch 125/150\n",
      "122/122 [==============================] - 4s 36ms/step - loss: 21.3469 - mean_absolute_error: 21.3469 - val_loss: 26.2423 - val_mean_absolute_error: 26.2423\n",
      "Epoch 126/150\n",
      "122/122 [==============================] - 4s 36ms/step - loss: 20.0749 - mean_absolute_error: 20.0749 - val_loss: 25.2915 - val_mean_absolute_error: 25.2915\n",
      "Epoch 127/150\n",
      "122/122 [==============================] - 4s 36ms/step - loss: 21.0261 - mean_absolute_error: 21.0261 - val_loss: 26.7643 - val_mean_absolute_error: 26.7643\n",
      "Epoch 128/150\n",
      "122/122 [==============================] - 4s 36ms/step - loss: 20.6407 - mean_absolute_error: 20.6407 - val_loss: 25.8875 - val_mean_absolute_error: 25.8875\n",
      "Epoch 129/150\n",
      "122/122 [==============================] - 4s 35ms/step - loss: 21.0346 - mean_absolute_error: 21.0346 - val_loss: 25.8244 - val_mean_absolute_error: 25.8244\n",
      "Epoch 130/150\n",
      "122/122 [==============================] - 4s 36ms/step - loss: 20.9573 - mean_absolute_error: 20.9573 - val_loss: 25.2225 - val_mean_absolute_error: 25.2225\n",
      "Epoch 131/150\n",
      "122/122 [==============================] - 4s 36ms/step - loss: 19.9386 - mean_absolute_error: 19.9386 - val_loss: 26.8095 - val_mean_absolute_error: 26.8095\n",
      "Epoch 132/150\n",
      "122/122 [==============================] - 4s 35ms/step - loss: 20.4791 - mean_absolute_error: 20.4791 - val_loss: 25.8599 - val_mean_absolute_error: 25.8599\n",
      "Epoch 133/150\n",
      "122/122 [==============================] - 4s 30ms/step - loss: 21.0558 - mean_absolute_error: 21.0558 - val_loss: 26.2755 - val_mean_absolute_error: 26.2755\n",
      "Epoch 134/150\n",
      "122/122 [==============================] - 4s 30ms/step - loss: 19.8620 - mean_absolute_error: 19.8620 - val_loss: 25.7103 - val_mean_absolute_error: 25.7103\n",
      "Epoch 135/150\n",
      "122/122 [==============================] - 4s 36ms/step - loss: 19.6817 - mean_absolute_error: 19.6817 - val_loss: 26.7273 - val_mean_absolute_error: 26.7273\n",
      "Epoch 136/150\n",
      "122/122 [==============================] - 4s 36ms/step - loss: 20.2256 - mean_absolute_error: 20.2256 - val_loss: 28.2020 - val_mean_absolute_error: 28.2020\n",
      "Epoch 137/150\n",
      "122/122 [==============================] - 4s 36ms/step - loss: 19.7407 - mean_absolute_error: 19.7407 - val_loss: 25.8118 - val_mean_absolute_error: 25.8118\n",
      "Epoch 138/150\n",
      "122/122 [==============================] - 4s 35ms/step - loss: 20.6597 - mean_absolute_error: 20.6597 - val_loss: 26.1986 - val_mean_absolute_error: 26.1986\n",
      "Epoch 139/150\n",
      "122/122 [==============================] - 5s 37ms/step - loss: 19.7390 - mean_absolute_error: 19.7390 - val_loss: 25.4314 - val_mean_absolute_error: 25.4314\n",
      "Epoch 140/150\n",
      "122/122 [==============================] - 4s 31ms/step - loss: 20.3189 - mean_absolute_error: 20.3189 - val_loss: 26.7435 - val_mean_absolute_error: 26.7435\n",
      "Epoch 141/150\n",
      "122/122 [==============================] - 4s 30ms/step - loss: 19.6218 - mean_absolute_error: 19.6218 - val_loss: 25.1924 - val_mean_absolute_error: 25.1924\n",
      "Epoch 142/150\n",
      "122/122 [==============================] - 4s 34ms/step - loss: 19.8013 - mean_absolute_error: 19.8013 - val_loss: 26.0568 - val_mean_absolute_error: 26.0568\n",
      "Epoch 143/150\n",
      "122/122 [==============================] - 4s 35ms/step - loss: 19.7322 - mean_absolute_error: 19.7322 - val_loss: 26.2480 - val_mean_absolute_error: 26.2480\n",
      "Epoch 144/150\n"
     ]
    },
    {
     "name": "stdout",
     "output_type": "stream",
     "text": [
      "122/122 [==============================] - 4s 36ms/step - loss: 18.9796 - mean_absolute_error: 18.9796 - val_loss: 25.9691 - val_mean_absolute_error: 25.9691\n",
      "Epoch 145/150\n",
      "122/122 [==============================] - 4s 33ms/step - loss: 19.7271 - mean_absolute_error: 19.7271 - val_loss: 25.9846 - val_mean_absolute_error: 25.9846\n",
      "Epoch 146/150\n",
      "122/122 [==============================] - 4s 33ms/step - loss: 19.6722 - mean_absolute_error: 19.6722 - val_loss: 26.8017 - val_mean_absolute_error: 26.8017\n",
      "Epoch 147/150\n",
      "122/122 [==============================] - 4s 33ms/step - loss: 20.4940 - mean_absolute_error: 20.4940 - val_loss: 25.4049 - val_mean_absolute_error: 25.4049\n",
      "Epoch 148/150\n",
      "122/122 [==============================] - 4s 33ms/step - loss: 19.6054 - mean_absolute_error: 19.6054 - val_loss: 27.5794 - val_mean_absolute_error: 27.5794\n",
      "Epoch 149/150\n",
      "122/122 [==============================] - 4s 33ms/step - loss: 19.4354 - mean_absolute_error: 19.4354 - val_loss: 25.5372 - val_mean_absolute_error: 25.5372\n",
      "Epoch 150/150\n",
      "122/122 [==============================] - 4s 33ms/step - loss: 19.8301 - mean_absolute_error: 19.8301 - val_loss: 25.9833 - val_mean_absolute_error: 25.9833\n"
     ]
    },
    {
     "name": "stderr",
     "output_type": "stream",
     "text": [
      "C:\\Users\\zisis\\AppData\\Roaming\\Python\\Python39\\site-packages\\tensorflow\\python\\data\\ops\\dataset_ops.py:3703: UserWarning: Even though the `tf.config.experimental_run_functions_eagerly` option is set, this option does not apply to tf.data functions. To force eager execution of tf.data functions, please use `tf.data.experimental.enable.debug_mode()`.\n",
      "  warnings.warn(\n"
     ]
    },
    {
     "name": "stdout",
     "output_type": "stream",
     "text": [
      "done\n",
      "Done.\n",
      "\n"
     ]
    }
   ],
   "source": [
    "def train_predict(model_list,Xtrain,ytrain,Xtest,ytest):\n",
    "    #fit models in list on training set and return predictions\n",
    "    Predictions = np.zeros((Xtest.shape[0],len(model_list)))\n",
    "    Predictions = pd.DataFrame(Predictions)\n",
    "    \n",
    "    print(\"Fitting models\")\n",
    "    \n",
    "    cols=list()\n",
    "    for i,(name,model) in enumerate(models.items()):\n",
    "        print(\"%s...\" % name, end=\" \", flush=False)\n",
    "        if(name!=\"NN_model\"):\n",
    "            model.fit(Xtrain, ytrain) \n",
    "            p = model.predict(Xtest)[:]\n",
    "            Predictions.iloc[:,i]=p\n",
    "            cols.append(name)\n",
    "            print(\"done\")\n",
    "        else:\n",
    "            model.fit(Xtrain, ytrain, epochs=150, batch_size=64, validation_split = 0.2) \n",
    "            p = model.predict(Xtest)[:]\n",
    "            Predictions.iloc[:,i]=p\n",
    "            cols.append(name)\n",
    "            print(\"done\")\n",
    "        \n",
    "        \n",
    "        \n",
    "    Predictions.columns = cols\n",
    "    print(\"Done.\\n\")\n",
    "    return Predictions\n",
    "\n",
    "P = train_predict(models,X_train,y_train,X_test,y_test)"
   ]
  },
  {
   "cell_type": "markdown",
   "metadata": {},
   "source": [
    "The score_models() method takes as arguments the Predictions array and y_test data in order to score each model. Finally, we combine the predictions by applying the mean function at every row of the Predictions array, and we calculate the RMSLE score."
   ]
  },
  {
   "cell_type": "code",
   "execution_count": 24,
   "metadata": {},
   "outputs": [
    {
     "name": "stdout",
     "output_type": "stream",
     "text": [
      "Scoring models.\n",
      "RMSLE rfr : 0.3421042292614833\n",
      "RMSLE rfr2 : 0.34259405746464444\n",
      "RMSLE rfr3 : 0.3415238529486971\n",
      "RMSLE etr : 0.33066305753348557\n",
      "RMSLE etr2 : 0.33132566865874724\n",
      "RMSLE NN_model : 0.30055109443061745\n",
      "Done. \n",
      "\n",
      "RMSLE mean_predictions : 0.3200486442846384\n"
     ]
    }
   ],
   "source": [
    "def score_models(Predictions,y):\n",
    "    #score model in prediction df\n",
    "    print(\"Scoring models.\")\n",
    "    for model in Predictions.columns:\n",
    "        for i,_ in enumerate(y):\n",
    "            if Predictions.loc[i,model]<0:\n",
    "                Predictions.loc[i,model]=0\n",
    "        print('RMSLE '+model+' :', np.sqrt(mean_squared_log_error(y, Predictions.loc[:,model])))\n",
    "    print(\"Done. \\n\")\n",
    "    \n",
    "score_models(P,y_test)\n",
    "\n",
    "mean_predict = P.mean(axis=1)\n",
    "print('RMSLE mean_predictions :', np.sqrt(mean_squared_log_error(y_test, mean_predict)))"
   ]
  },
  {
   "cell_type": "markdown",
   "metadata": {},
   "source": [
    "To create submission.csv we train the model to the whole training set."
   ]
  },
  {
   "cell_type": "markdown",
   "metadata": {},
   "source": [
    "# Kaggle Submission"
   ]
  },
  {
   "cell_type": "markdown",
   "metadata": {},
   "source": [
    "Now we will use the fitted model to make predictions for the **given** test set. First we load the test set and then follow the same preprocessing steps as for train set."
   ]
  },
  {
   "cell_type": "code",
   "execution_count": 25,
   "metadata": {
    "scrolled": true
   },
   "outputs": [
    {
     "name": "stdout",
     "output_type": "stream",
     "text": [
      "(5214, 12)\n"
     ]
    },
    {
     "data": {
      "text/html": [
       "<div>\n",
       "<style scoped>\n",
       "    .dataframe tbody tr th:only-of-type {\n",
       "        vertical-align: middle;\n",
       "    }\n",
       "\n",
       "    .dataframe tbody tr th {\n",
       "        vertical-align: top;\n",
       "    }\n",
       "\n",
       "    .dataframe thead th {\n",
       "        text-align: right;\n",
       "    }\n",
       "</style>\n",
       "<table border=\"1\" class=\"dataframe\">\n",
       "  <thead>\n",
       "    <tr style=\"text-align: right;\">\n",
       "      <th></th>\n",
       "      <th>season</th>\n",
       "      <th>yr</th>\n",
       "      <th>mnth</th>\n",
       "      <th>hr</th>\n",
       "      <th>holiday</th>\n",
       "      <th>weekday</th>\n",
       "      <th>workingday</th>\n",
       "      <th>weathersit</th>\n",
       "      <th>temp</th>\n",
       "      <th>atemp</th>\n",
       "      <th>hum</th>\n",
       "      <th>windspeed</th>\n",
       "    </tr>\n",
       "  </thead>\n",
       "  <tbody>\n",
       "    <tr>\n",
       "      <th>0</th>\n",
       "      <td>1</td>\n",
       "      <td>1</td>\n",
       "      <td>1</td>\n",
       "      <td>20</td>\n",
       "      <td>0</td>\n",
       "      <td>4</td>\n",
       "      <td>1</td>\n",
       "      <td>1</td>\n",
       "      <td>0.26</td>\n",
       "      <td>0.2121</td>\n",
       "      <td>0.52</td>\n",
       "      <td>0.4478</td>\n",
       "    </tr>\n",
       "    <tr>\n",
       "      <th>1</th>\n",
       "      <td>4</td>\n",
       "      <td>1</td>\n",
       "      <td>10</td>\n",
       "      <td>15</td>\n",
       "      <td>0</td>\n",
       "      <td>5</td>\n",
       "      <td>1</td>\n",
       "      <td>1</td>\n",
       "      <td>0.52</td>\n",
       "      <td>0.5000</td>\n",
       "      <td>0.42</td>\n",
       "      <td>0.4478</td>\n",
       "    </tr>\n",
       "    <tr>\n",
       "      <th>2</th>\n",
       "      <td>1</td>\n",
       "      <td>0</td>\n",
       "      <td>1</td>\n",
       "      <td>10</td>\n",
       "      <td>0</td>\n",
       "      <td>0</td>\n",
       "      <td>0</td>\n",
       "      <td>1</td>\n",
       "      <td>0.22</td>\n",
       "      <td>0.2121</td>\n",
       "      <td>0.51</td>\n",
       "      <td>0.2836</td>\n",
       "    </tr>\n",
       "    <tr>\n",
       "      <th>3</th>\n",
       "      <td>3</td>\n",
       "      <td>1</td>\n",
       "      <td>8</td>\n",
       "      <td>18</td>\n",
       "      <td>0</td>\n",
       "      <td>3</td>\n",
       "      <td>1</td>\n",
       "      <td>1</td>\n",
       "      <td>0.74</td>\n",
       "      <td>0.6667</td>\n",
       "      <td>0.51</td>\n",
       "      <td>0.2239</td>\n",
       "    </tr>\n",
       "    <tr>\n",
       "      <th>4</th>\n",
       "      <td>1</td>\n",
       "      <td>1</td>\n",
       "      <td>2</td>\n",
       "      <td>8</td>\n",
       "      <td>0</td>\n",
       "      <td>1</td>\n",
       "      <td>1</td>\n",
       "      <td>1</td>\n",
       "      <td>0.24</td>\n",
       "      <td>0.2424</td>\n",
       "      <td>0.60</td>\n",
       "      <td>0.0000</td>\n",
       "    </tr>\n",
       "  </tbody>\n",
       "</table>\n",
       "</div>"
      ],
      "text/plain": [
       "   season  yr  mnth  hr  holiday  weekday  workingday  weathersit  temp  \\\n",
       "0       1   1     1  20        0        4           1           1  0.26   \n",
       "1       4   1    10  15        0        5           1           1  0.52   \n",
       "2       1   0     1  10        0        0           0           1  0.22   \n",
       "3       3   1     8  18        0        3           1           1  0.74   \n",
       "4       1   1     2   8        0        1           1           1  0.24   \n",
       "\n",
       "    atemp   hum  windspeed  \n",
       "0  0.2121  0.52     0.4478  \n",
       "1  0.5000  0.42     0.4478  \n",
       "2  0.2121  0.51     0.2836  \n",
       "3  0.6667  0.51     0.2239  \n",
       "4  0.2424  0.60     0.0000  "
      ]
     },
     "execution_count": 25,
     "metadata": {},
     "output_type": "execute_result"
    }
   ],
   "source": [
    "# Reading test data from the local storage\n",
    "filename = 'test.csv' \n",
    "df_test = pd.read_csv(filename)\n",
    "print(df_test.shape)\n",
    "df_test.head(5)"
   ]
  },
  {
   "cell_type": "markdown",
   "metadata": {},
   "source": [
    "Whatever preprocessing we did to training data, we have to do also to test data."
   ]
  },
  {
   "cell_type": "markdown",
   "metadata": {},
   "source": [
    "Rename Column Names"
   ]
  },
  {
   "cell_type": "code",
   "execution_count": 26,
   "metadata": {
    "scrolled": true
   },
   "outputs": [
    {
     "data": {
      "text/html": [
       "<div>\n",
       "<style scoped>\n",
       "    .dataframe tbody tr th:only-of-type {\n",
       "        vertical-align: middle;\n",
       "    }\n",
       "\n",
       "    .dataframe tbody tr th {\n",
       "        vertical-align: top;\n",
       "    }\n",
       "\n",
       "    .dataframe thead th {\n",
       "        text-align: right;\n",
       "    }\n",
       "</style>\n",
       "<table border=\"1\" class=\"dataframe\">\n",
       "  <thead>\n",
       "    <tr style=\"text-align: right;\">\n",
       "      <th></th>\n",
       "      <th>season</th>\n",
       "      <th>year</th>\n",
       "      <th>month</th>\n",
       "      <th>hour</th>\n",
       "      <th>holiday</th>\n",
       "      <th>weekday</th>\n",
       "      <th>workingday</th>\n",
       "      <th>weather</th>\n",
       "      <th>temp</th>\n",
       "      <th>atemp</th>\n",
       "      <th>humidity</th>\n",
       "      <th>windspeed</th>\n",
       "    </tr>\n",
       "  </thead>\n",
       "  <tbody>\n",
       "    <tr>\n",
       "      <th>0</th>\n",
       "      <td>1</td>\n",
       "      <td>1</td>\n",
       "      <td>1</td>\n",
       "      <td>20</td>\n",
       "      <td>0</td>\n",
       "      <td>4</td>\n",
       "      <td>1</td>\n",
       "      <td>1</td>\n",
       "      <td>0.26</td>\n",
       "      <td>0.2121</td>\n",
       "      <td>0.52</td>\n",
       "      <td>0.4478</td>\n",
       "    </tr>\n",
       "    <tr>\n",
       "      <th>1</th>\n",
       "      <td>4</td>\n",
       "      <td>1</td>\n",
       "      <td>10</td>\n",
       "      <td>15</td>\n",
       "      <td>0</td>\n",
       "      <td>5</td>\n",
       "      <td>1</td>\n",
       "      <td>1</td>\n",
       "      <td>0.52</td>\n",
       "      <td>0.5000</td>\n",
       "      <td>0.42</td>\n",
       "      <td>0.4478</td>\n",
       "    </tr>\n",
       "    <tr>\n",
       "      <th>2</th>\n",
       "      <td>1</td>\n",
       "      <td>0</td>\n",
       "      <td>1</td>\n",
       "      <td>10</td>\n",
       "      <td>0</td>\n",
       "      <td>0</td>\n",
       "      <td>0</td>\n",
       "      <td>1</td>\n",
       "      <td>0.22</td>\n",
       "      <td>0.2121</td>\n",
       "      <td>0.51</td>\n",
       "      <td>0.2836</td>\n",
       "    </tr>\n",
       "    <tr>\n",
       "      <th>3</th>\n",
       "      <td>3</td>\n",
       "      <td>1</td>\n",
       "      <td>8</td>\n",
       "      <td>18</td>\n",
       "      <td>0</td>\n",
       "      <td>3</td>\n",
       "      <td>1</td>\n",
       "      <td>1</td>\n",
       "      <td>0.74</td>\n",
       "      <td>0.6667</td>\n",
       "      <td>0.51</td>\n",
       "      <td>0.2239</td>\n",
       "    </tr>\n",
       "    <tr>\n",
       "      <th>4</th>\n",
       "      <td>1</td>\n",
       "      <td>1</td>\n",
       "      <td>2</td>\n",
       "      <td>8</td>\n",
       "      <td>0</td>\n",
       "      <td>1</td>\n",
       "      <td>1</td>\n",
       "      <td>1</td>\n",
       "      <td>0.24</td>\n",
       "      <td>0.2424</td>\n",
       "      <td>0.60</td>\n",
       "      <td>0.0000</td>\n",
       "    </tr>\n",
       "  </tbody>\n",
       "</table>\n",
       "</div>"
      ],
      "text/plain": [
       "   season  year  month  hour  holiday  weekday  workingday  weather  temp  \\\n",
       "0       1     1      1    20        0        4           1        1  0.26   \n",
       "1       4     1     10    15        0        5           1        1  0.52   \n",
       "2       1     0      1    10        0        0           0        1  0.22   \n",
       "3       3     1      8    18        0        3           1        1  0.74   \n",
       "4       1     1      2     8        0        1           1        1  0.24   \n",
       "\n",
       "    atemp  humidity  windspeed  \n",
       "0  0.2121      0.52     0.4478  \n",
       "1  0.5000      0.42     0.4478  \n",
       "2  0.2121      0.51     0.2836  \n",
       "3  0.6667      0.51     0.2239  \n",
       "4  0.2424      0.60     0.0000  "
      ]
     },
     "execution_count": 26,
     "metadata": {},
     "output_type": "execute_result"
    }
   ],
   "source": [
    "df_test.rename(columns={'weathersit':'weather',\n",
    "                     'mnth':'month',\n",
    "                     'hr':'hour',\n",
    "                     'yr':'year',\n",
    "                     'hum': 'humidity',\n",
    "                     'cnt':'count'},inplace=True)\n",
    "df_test.head()"
   ]
  },
  {
   "cell_type": "code",
   "execution_count": 27,
   "metadata": {},
   "outputs": [
    {
     "data": {
      "text/plain": [
       "season         object\n",
       "year            int64\n",
       "month           int64\n",
       "hour            int64\n",
       "holiday        object\n",
       "weekday        object\n",
       "workingday     object\n",
       "weather         int64\n",
       "temp          float64\n",
       "atemp         float64\n",
       "humidity      float64\n",
       "windspeed     float64\n",
       "dtype: object"
      ]
     },
     "execution_count": 27,
     "metadata": {},
     "output_type": "execute_result"
    }
   ],
   "source": [
    "#Convert to object type\n",
    "df_test['season'] = df_test.season.astype('object')\n",
    "#df_test['year'] = df_test.year.astype('object')\n",
    "#df_test['month'] = df_test.month.astype('object')\n",
    "#df_test['hour'] = df_test.hour.astype('object')#category\n",
    "df_test['holiday'] = df_test.holiday.astype('object')\n",
    "df_test['weekday'] = df_test.weekday.astype('object')\n",
    "df_test['workingday'] = df_test.workingday.astype('object')\n",
    "#df_test['weather'] = df_test.weather.astype('object')\n",
    "\n",
    "df_test.dtypes"
   ]
  },
  {
   "cell_type": "code",
   "execution_count": 28,
   "metadata": {
    "scrolled": true
   },
   "outputs": [
    {
     "data": {
      "text/html": [
       "<div>\n",
       "<style scoped>\n",
       "    .dataframe tbody tr th:only-of-type {\n",
       "        vertical-align: middle;\n",
       "    }\n",
       "\n",
       "    .dataframe tbody tr th {\n",
       "        vertical-align: top;\n",
       "    }\n",
       "\n",
       "    .dataframe thead th {\n",
       "        text-align: right;\n",
       "    }\n",
       "</style>\n",
       "<table border=\"1\" class=\"dataframe\">\n",
       "  <thead>\n",
       "    <tr style=\"text-align: right;\">\n",
       "      <th></th>\n",
       "      <th>season</th>\n",
       "      <th>year</th>\n",
       "      <th>month</th>\n",
       "      <th>hour</th>\n",
       "      <th>holiday</th>\n",
       "      <th>weekday</th>\n",
       "      <th>workingday</th>\n",
       "      <th>weather</th>\n",
       "      <th>temp</th>\n",
       "      <th>atemp</th>\n",
       "      <th>humidity</th>\n",
       "    </tr>\n",
       "  </thead>\n",
       "  <tbody>\n",
       "    <tr>\n",
       "      <th>0</th>\n",
       "      <td>1</td>\n",
       "      <td>1</td>\n",
       "      <td>1</td>\n",
       "      <td>20</td>\n",
       "      <td>0</td>\n",
       "      <td>4</td>\n",
       "      <td>1</td>\n",
       "      <td>1</td>\n",
       "      <td>0.26</td>\n",
       "      <td>0.2121</td>\n",
       "      <td>0.52</td>\n",
       "    </tr>\n",
       "    <tr>\n",
       "      <th>1</th>\n",
       "      <td>4</td>\n",
       "      <td>1</td>\n",
       "      <td>10</td>\n",
       "      <td>15</td>\n",
       "      <td>0</td>\n",
       "      <td>5</td>\n",
       "      <td>1</td>\n",
       "      <td>1</td>\n",
       "      <td>0.52</td>\n",
       "      <td>0.5000</td>\n",
       "      <td>0.42</td>\n",
       "    </tr>\n",
       "    <tr>\n",
       "      <th>2</th>\n",
       "      <td>1</td>\n",
       "      <td>0</td>\n",
       "      <td>1</td>\n",
       "      <td>10</td>\n",
       "      <td>0</td>\n",
       "      <td>0</td>\n",
       "      <td>0</td>\n",
       "      <td>1</td>\n",
       "      <td>0.22</td>\n",
       "      <td>0.2121</td>\n",
       "      <td>0.51</td>\n",
       "    </tr>\n",
       "    <tr>\n",
       "      <th>3</th>\n",
       "      <td>3</td>\n",
       "      <td>1</td>\n",
       "      <td>8</td>\n",
       "      <td>18</td>\n",
       "      <td>0</td>\n",
       "      <td>3</td>\n",
       "      <td>1</td>\n",
       "      <td>1</td>\n",
       "      <td>0.74</td>\n",
       "      <td>0.6667</td>\n",
       "      <td>0.51</td>\n",
       "    </tr>\n",
       "    <tr>\n",
       "      <th>4</th>\n",
       "      <td>1</td>\n",
       "      <td>1</td>\n",
       "      <td>2</td>\n",
       "      <td>8</td>\n",
       "      <td>0</td>\n",
       "      <td>1</td>\n",
       "      <td>1</td>\n",
       "      <td>1</td>\n",
       "      <td>0.24</td>\n",
       "      <td>0.2424</td>\n",
       "      <td>0.60</td>\n",
       "    </tr>\n",
       "  </tbody>\n",
       "</table>\n",
       "</div>"
      ],
      "text/plain": [
       "  season  year  month  hour holiday weekday workingday  weather  temp   atemp  \\\n",
       "0      1     1      1    20       0       4          1        1  0.26  0.2121   \n",
       "1      4     1     10    15       0       5          1        1  0.52  0.5000   \n",
       "2      1     0      1    10       0       0          0        1  0.22  0.2121   \n",
       "3      3     1      8    18       0       3          1        1  0.74  0.6667   \n",
       "4      1     1      2     8       0       1          1        1  0.24  0.2424   \n",
       "\n",
       "   humidity  \n",
       "0      0.52  \n",
       "1      0.42  \n",
       "2      0.51  \n",
       "3      0.51  \n",
       "4      0.60  "
      ]
     },
     "execution_count": 28,
     "metadata": {},
     "output_type": "execute_result"
    }
   ],
   "source": [
    "df_test = df_test.drop(['windspeed'], axis=1)\n",
    "df_test.head()"
   ]
  },
  {
   "cell_type": "code",
   "execution_count": 29,
   "metadata": {},
   "outputs": [],
   "source": [
    "#Test data\n",
    "df_test = df_test[['season','year','month','hour','holiday','weekday','workingday','weather','atemp','humidity']]\n",
    "\n",
    "#One-hot encoding technique for better performance\n",
    "df_test = pd.get_dummies(df_test)"
   ]
  },
  {
   "cell_type": "code",
   "execution_count": 30,
   "metadata": {},
   "outputs": [
    {
     "name": "stderr",
     "output_type": "stream",
     "text": [
      "C:\\Users\\zisis\\AppData\\Roaming\\Python\\Python39\\site-packages\\tensorflow\\python\\data\\ops\\dataset_ops.py:3703: UserWarning: Even though the `tf.config.experimental_run_functions_eagerly` option is set, this option does not apply to tf.data functions. To force eager execution of tf.data functions, please use `tf.data.experimental.enable.debug_mode()`.\n",
      "  warnings.warn(\n",
      "C:\\Users\\zisis\\AppData\\Roaming\\Python\\Python39\\site-packages\\tensorflow\\python\\data\\ops\\dataset_ops.py:3703: UserWarning: Even though the `tf.config.experimental_run_functions_eagerly` option is set, this option does not apply to tf.data functions. To force eager execution of tf.data functions, please use `tf.data.experimental.enable.debug_mode()`.\n",
      "  warnings.warn(\n"
     ]
    }
   ],
   "source": [
    "#Predict\n",
    "y_pred = NN_model.predict(df_test)\n",
    "for i, y  in enumerate(y_pred):\n",
    "    if y_pred[i] < 0:\n",
    "        y_pred[i] = 0"
   ]
  },
  {
   "cell_type": "markdown",
   "metadata": {},
   "source": [
    "Prepare a pandas dataframe according to submission format and save it to `submission.csv`:"
   ]
  },
  {
   "cell_type": "code",
   "execution_count": 31,
   "metadata": {},
   "outputs": [],
   "source": [
    "#We create submission.csv and write it to disk\n",
    "submission = pd.DataFrame()\n",
    "submission['Id'] = range(y_pred.shape[0])\n",
    "submission['Predicted'] = y_pred\n",
    "submission.to_csv(\"submission.csv\", index=False)"
   ]
  },
  {
   "cell_type": "markdown",
   "metadata": {},
   "source": [
    "These submission gave us a 0.28 RMSLE score at Kaggle's leaderboard. We saw that some submissions, with the same rmsle score, got different values for the same test example, so we decided to get the mean of these submissions."
   ]
  },
  {
   "cell_type": "code",
   "execution_count": 33,
   "metadata": {},
   "outputs": [],
   "source": [
    "# filename1 = 'submission1.csv' \n",
    "# sub1 = pd.read_csv(filename1)\n",
    "# print(sub1.shape)\n",
    "# sub1.head(5)"
   ]
  },
  {
   "cell_type": "code",
   "execution_count": 34,
   "metadata": {
    "scrolled": true
   },
   "outputs": [],
   "source": [
    "# filename2 = 'submission2.csv' \n",
    "# sub2 = pd.read_csv(filename2)\n",
    "# print(sub2.shape)\n",
    "# sub2.head(5)"
   ]
  },
  {
   "cell_type": "code",
   "execution_count": null,
   "metadata": {},
   "outputs": [],
   "source": [
    "#Create the mean\n",
    "mean=np.zeros((sub1.shape[0],1))\n",
    "for i in range(mean.shape[0]):\n",
    "    mean[i][0]=(sub1['Predicted'][i]+sub2['Predicted'][i])/2\n",
    "    \n",
    "#Create the Predicted Column\n",
    "dataset = pd.DataFrame({'Predicted': mean[:, 0]})"
   ]
  },
  {
   "cell_type": "code",
   "execution_count": null,
   "metadata": {},
   "outputs": [],
   "source": [
    "#Create the new sumbission and store it to disk\n",
    "submission_mean = pd.DataFrame()\n",
    "submission_mean['Id'] = range(mean.shape[0])\n",
    "submission_mean['Predicted']=dataset['Predicted'][:] \n",
    "submission_mean.shape\n",
    "submission_mean.to_csv(\"submission_mean.csv\", index=False)"
   ]
  },
  {
   "cell_type": "markdown",
   "metadata": {},
   "source": [
    "Our final RMSLE Score: 0.26379"
   ]
  }
 ],
 "metadata": {
  "kernelspec": {
   "display_name": "Python 3",
   "language": "python",
   "name": "python3"
  },
  "language_info": {
   "codemirror_mode": {
    "name": "ipython",
    "version": 3
   },
   "file_extension": ".py",
   "mimetype": "text/x-python",
   "name": "python",
   "nbconvert_exporter": "python",
   "pygments_lexer": "ipython3",
   "version": "3.9.2"
  }
 },
 "nbformat": 4,
 "nbformat_minor": 1
}
